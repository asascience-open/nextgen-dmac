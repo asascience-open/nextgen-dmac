{
 "cells": [
  {
   "cell_type": "code",
   "execution_count": 117,
   "id": "f681644f",
   "metadata": {},
   "outputs": [],
   "source": [
    "import ipywidgets as widgets\n",
    "import xarray\n",
    "from io import BytesIO\n",
    "import typing\n",
    "import numbers\n",
    "import subprocess\n",
    "from shlex import quote\n",
    "import requests"
   ]
  },
  {
   "cell_type": "code",
   "execution_count": 72,
   "id": "7099d50b",
   "metadata": {},
   "outputs": [
    {
     "data": {
      "application/vnd.jupyter.widget-view+json": {
       "model_id": "4e027f7e558a453594886645559838f9",
       "version_major": 2,
       "version_minor": 0
      },
      "text/plain": [
       "Text(value='', placeholder='ERDDAP NetCDF URL')"
      ]
     },
     "metadata": {},
     "output_type": "display_data"
    }
   ],
   "source": [
    "url_loc = widgets.Text(placeholder=\"ERDDAP NetCDF URL\")\n",
    "display(url_loc)"
   ]
  },
  {
   "cell_type": "code",
   "execution_count": 118,
   "id": "86d6972f",
   "metadata": {},
   "outputs": [
    {
     "data": {
      "text/plain": [
       "'https://gliders.ioos.us/erddap/tabledap/amelia-20180501T0000.nc'"
      ]
     },
     "execution_count": 118,
     "metadata": {},
     "output_type": "execute_result"
    }
   ],
   "source": [
    "url_loc.value"
   ]
  },
  {
   "cell_type": "code",
   "execution_count": 120,
   "id": "f2fc48c4",
   "metadata": {},
   "outputs": [],
   "source": [
    "if uploader.value[0].type == \"application/x-netcdf\":\n",
    "    ds = xarray.open_dataset(BytesIO(uploader.value[0].content.tobytes()))"
   ]
  },
  {
   "cell_type": "code",
   "execution_count": 125,
   "id": "4cd5c1d2",
   "metadata": {},
   "outputs": [
    {
     "name": "stdout",
     "output_type": "stream",
     "text": [
      "https://gliders.ioos.us/erddap/tabledap/amelia-20180501T0000.nc\n"
     ]
    },
    {
     "name": "stderr",
     "output_type": "stream",
     "text": [
      "syntax error, unexpected $end, expecting ';'\n",
      "context: Error { code=404; message=\"Not Found: Currently unknown datasetID=amelia-20180501T0000.nc\";}^\n"
     ]
    }
   ],
   "source": [
    "url = url_loc.value\n",
    "print(url)\n",
    "# whether we need to store the dataset to disk before processing,\n",
    "# usually due to needing to fetch a netCDF file from ERDDAP due to\n",
    "# not presenting an OPeNDAP interface\n",
    "store_remote = False\n",
    "try:\n",
    "    with warnings.catch_warnings() as w:\n",
    "        warnings.simplefilter(\"ignore\")\n",
    "        ds = xarray.open_dataset(url)\n",
    "        \n",
    "# handle ERDDAP, which doesn't use an OPeNDAP interface for TableDAP\n",
    "except OSError:\n",
    "    req = requests.get(url, timeout=30)\n",
    "    ds = xarray.open_dataset(BytesIO(req.content))\n",
    "    store_remote = True"
   ]
  },
  {
   "cell_type": "code",
   "execution_count": 68,
   "id": "bd1a4d73",
   "metadata": {},
   "outputs": [
    {
     "data": {
      "text/html": [
       "<div><svg style=\"position: absolute; width: 0; height: 0; overflow: hidden\">\n",
       "<defs>\n",
       "<symbol id=\"icon-database\" viewBox=\"0 0 32 32\">\n",
       "<path d=\"M16 0c-8.837 0-16 2.239-16 5v4c0 2.761 7.163 5 16 5s16-2.239 16-5v-4c0-2.761-7.163-5-16-5z\"></path>\n",
       "<path d=\"M16 17c-8.837 0-16-2.239-16-5v6c0 2.761 7.163 5 16 5s16-2.239 16-5v-6c0 2.761-7.163 5-16 5z\"></path>\n",
       "<path d=\"M16 26c-8.837 0-16-2.239-16-5v6c0 2.761 7.163 5 16 5s16-2.239 16-5v-6c0 2.761-7.163 5-16 5z\"></path>\n",
       "</symbol>\n",
       "<symbol id=\"icon-file-text2\" viewBox=\"0 0 32 32\">\n",
       "<path d=\"M28.681 7.159c-0.694-0.947-1.662-2.053-2.724-3.116s-2.169-2.030-3.116-2.724c-1.612-1.182-2.393-1.319-2.841-1.319h-15.5c-1.378 0-2.5 1.121-2.5 2.5v27c0 1.378 1.122 2.5 2.5 2.5h23c1.378 0 2.5-1.122 2.5-2.5v-19.5c0-0.448-0.137-1.23-1.319-2.841zM24.543 5.457c0.959 0.959 1.712 1.825 2.268 2.543h-4.811v-4.811c0.718 0.556 1.584 1.309 2.543 2.268zM28 29.5c0 0.271-0.229 0.5-0.5 0.5h-23c-0.271 0-0.5-0.229-0.5-0.5v-27c0-0.271 0.229-0.5 0.5-0.5 0 0 15.499-0 15.5 0v7c0 0.552 0.448 1 1 1h7v19.5z\"></path>\n",
       "<path d=\"M23 26h-14c-0.552 0-1-0.448-1-1s0.448-1 1-1h14c0.552 0 1 0.448 1 1s-0.448 1-1 1z\"></path>\n",
       "<path d=\"M23 22h-14c-0.552 0-1-0.448-1-1s0.448-1 1-1h14c0.552 0 1 0.448 1 1s-0.448 1-1 1z\"></path>\n",
       "<path d=\"M23 18h-14c-0.552 0-1-0.448-1-1s0.448-1 1-1h14c0.552 0 1 0.448 1 1s-0.448 1-1 1z\"></path>\n",
       "</symbol>\n",
       "</defs>\n",
       "</svg>\n",
       "<style>/* CSS stylesheet for displaying xarray objects in jupyterlab.\n",
       " *\n",
       " */\n",
       "\n",
       ":root {\n",
       "  --xr-font-color0: var(--jp-content-font-color0, rgba(0, 0, 0, 1));\n",
       "  --xr-font-color2: var(--jp-content-font-color2, rgba(0, 0, 0, 0.54));\n",
       "  --xr-font-color3: var(--jp-content-font-color3, rgba(0, 0, 0, 0.38));\n",
       "  --xr-border-color: var(--jp-border-color2, #e0e0e0);\n",
       "  --xr-disabled-color: var(--jp-layout-color3, #bdbdbd);\n",
       "  --xr-background-color: var(--jp-layout-color0, white);\n",
       "  --xr-background-color-row-even: var(--jp-layout-color1, white);\n",
       "  --xr-background-color-row-odd: var(--jp-layout-color2, #eeeeee);\n",
       "}\n",
       "\n",
       "html[theme=dark],\n",
       "body[data-theme=dark],\n",
       "body.vscode-dark {\n",
       "  --xr-font-color0: rgba(255, 255, 255, 1);\n",
       "  --xr-font-color2: rgba(255, 255, 255, 0.54);\n",
       "  --xr-font-color3: rgba(255, 255, 255, 0.38);\n",
       "  --xr-border-color: #1F1F1F;\n",
       "  --xr-disabled-color: #515151;\n",
       "  --xr-background-color: #111111;\n",
       "  --xr-background-color-row-even: #111111;\n",
       "  --xr-background-color-row-odd: #313131;\n",
       "}\n",
       "\n",
       ".xr-wrap {\n",
       "  display: block !important;\n",
       "  min-width: 300px;\n",
       "  max-width: 700px;\n",
       "}\n",
       "\n",
       ".xr-text-repr-fallback {\n",
       "  /* fallback to plain text repr when CSS is not injected (untrusted notebook) */\n",
       "  display: none;\n",
       "}\n",
       "\n",
       ".xr-header {\n",
       "  padding-top: 6px;\n",
       "  padding-bottom: 6px;\n",
       "  margin-bottom: 4px;\n",
       "  border-bottom: solid 1px var(--xr-border-color);\n",
       "}\n",
       "\n",
       ".xr-header > div,\n",
       ".xr-header > ul {\n",
       "  display: inline;\n",
       "  margin-top: 0;\n",
       "  margin-bottom: 0;\n",
       "}\n",
       "\n",
       ".xr-obj-type,\n",
       ".xr-array-name {\n",
       "  margin-left: 2px;\n",
       "  margin-right: 10px;\n",
       "}\n",
       "\n",
       ".xr-obj-type {\n",
       "  color: var(--xr-font-color2);\n",
       "}\n",
       "\n",
       ".xr-sections {\n",
       "  padding-left: 0 !important;\n",
       "  display: grid;\n",
       "  grid-template-columns: 150px auto auto 1fr 20px 20px;\n",
       "}\n",
       "\n",
       ".xr-section-item {\n",
       "  display: contents;\n",
       "}\n",
       "\n",
       ".xr-section-item input {\n",
       "  display: none;\n",
       "}\n",
       "\n",
       ".xr-section-item input + label {\n",
       "  color: var(--xr-disabled-color);\n",
       "}\n",
       "\n",
       ".xr-section-item input:enabled + label {\n",
       "  cursor: pointer;\n",
       "  color: var(--xr-font-color2);\n",
       "}\n",
       "\n",
       ".xr-section-item input:enabled + label:hover {\n",
       "  color: var(--xr-font-color0);\n",
       "}\n",
       "\n",
       ".xr-section-summary {\n",
       "  grid-column: 1;\n",
       "  color: var(--xr-font-color2);\n",
       "  font-weight: 500;\n",
       "}\n",
       "\n",
       ".xr-section-summary > span {\n",
       "  display: inline-block;\n",
       "  padding-left: 0.5em;\n",
       "}\n",
       "\n",
       ".xr-section-summary-in:disabled + label {\n",
       "  color: var(--xr-font-color2);\n",
       "}\n",
       "\n",
       ".xr-section-summary-in + label:before {\n",
       "  display: inline-block;\n",
       "  content: '►';\n",
       "  font-size: 11px;\n",
       "  width: 15px;\n",
       "  text-align: center;\n",
       "}\n",
       "\n",
       ".xr-section-summary-in:disabled + label:before {\n",
       "  color: var(--xr-disabled-color);\n",
       "}\n",
       "\n",
       ".xr-section-summary-in:checked + label:before {\n",
       "  content: '▼';\n",
       "}\n",
       "\n",
       ".xr-section-summary-in:checked + label > span {\n",
       "  display: none;\n",
       "}\n",
       "\n",
       ".xr-section-summary,\n",
       ".xr-section-inline-details {\n",
       "  padding-top: 4px;\n",
       "  padding-bottom: 4px;\n",
       "}\n",
       "\n",
       ".xr-section-inline-details {\n",
       "  grid-column: 2 / -1;\n",
       "}\n",
       "\n",
       ".xr-section-details {\n",
       "  display: none;\n",
       "  grid-column: 1 / -1;\n",
       "  margin-bottom: 5px;\n",
       "}\n",
       "\n",
       ".xr-section-summary-in:checked ~ .xr-section-details {\n",
       "  display: contents;\n",
       "}\n",
       "\n",
       ".xr-array-wrap {\n",
       "  grid-column: 1 / -1;\n",
       "  display: grid;\n",
       "  grid-template-columns: 20px auto;\n",
       "}\n",
       "\n",
       ".xr-array-wrap > label {\n",
       "  grid-column: 1;\n",
       "  vertical-align: top;\n",
       "}\n",
       "\n",
       ".xr-preview {\n",
       "  color: var(--xr-font-color3);\n",
       "}\n",
       "\n",
       ".xr-array-preview,\n",
       ".xr-array-data {\n",
       "  padding: 0 5px !important;\n",
       "  grid-column: 2;\n",
       "}\n",
       "\n",
       ".xr-array-data,\n",
       ".xr-array-in:checked ~ .xr-array-preview {\n",
       "  display: none;\n",
       "}\n",
       "\n",
       ".xr-array-in:checked ~ .xr-array-data,\n",
       ".xr-array-preview {\n",
       "  display: inline-block;\n",
       "}\n",
       "\n",
       ".xr-dim-list {\n",
       "  display: inline-block !important;\n",
       "  list-style: none;\n",
       "  padding: 0 !important;\n",
       "  margin: 0;\n",
       "}\n",
       "\n",
       ".xr-dim-list li {\n",
       "  display: inline-block;\n",
       "  padding: 0;\n",
       "  margin: 0;\n",
       "}\n",
       "\n",
       ".xr-dim-list:before {\n",
       "  content: '(';\n",
       "}\n",
       "\n",
       ".xr-dim-list:after {\n",
       "  content: ')';\n",
       "}\n",
       "\n",
       ".xr-dim-list li:not(:last-child):after {\n",
       "  content: ',';\n",
       "  padding-right: 5px;\n",
       "}\n",
       "\n",
       ".xr-has-index {\n",
       "  font-weight: bold;\n",
       "}\n",
       "\n",
       ".xr-var-list,\n",
       ".xr-var-item {\n",
       "  display: contents;\n",
       "}\n",
       "\n",
       ".xr-var-item > div,\n",
       ".xr-var-item label,\n",
       ".xr-var-item > .xr-var-name span {\n",
       "  background-color: var(--xr-background-color-row-even);\n",
       "  margin-bottom: 0;\n",
       "}\n",
       "\n",
       ".xr-var-item > .xr-var-name:hover span {\n",
       "  padding-right: 5px;\n",
       "}\n",
       "\n",
       ".xr-var-list > li:nth-child(odd) > div,\n",
       ".xr-var-list > li:nth-child(odd) > label,\n",
       ".xr-var-list > li:nth-child(odd) > .xr-var-name span {\n",
       "  background-color: var(--xr-background-color-row-odd);\n",
       "}\n",
       "\n",
       ".xr-var-name {\n",
       "  grid-column: 1;\n",
       "}\n",
       "\n",
       ".xr-var-dims {\n",
       "  grid-column: 2;\n",
       "}\n",
       "\n",
       ".xr-var-dtype {\n",
       "  grid-column: 3;\n",
       "  text-align: right;\n",
       "  color: var(--xr-font-color2);\n",
       "}\n",
       "\n",
       ".xr-var-preview {\n",
       "  grid-column: 4;\n",
       "}\n",
       "\n",
       ".xr-index-preview {\n",
       "  grid-column: 2 / 5;\n",
       "  color: var(--xr-font-color2);\n",
       "}\n",
       "\n",
       ".xr-var-name,\n",
       ".xr-var-dims,\n",
       ".xr-var-dtype,\n",
       ".xr-preview,\n",
       ".xr-attrs dt {\n",
       "  white-space: nowrap;\n",
       "  overflow: hidden;\n",
       "  text-overflow: ellipsis;\n",
       "  padding-right: 10px;\n",
       "}\n",
       "\n",
       ".xr-var-name:hover,\n",
       ".xr-var-dims:hover,\n",
       ".xr-var-dtype:hover,\n",
       ".xr-attrs dt:hover {\n",
       "  overflow: visible;\n",
       "  width: auto;\n",
       "  z-index: 1;\n",
       "}\n",
       "\n",
       ".xr-var-attrs,\n",
       ".xr-var-data,\n",
       ".xr-index-data {\n",
       "  display: none;\n",
       "  background-color: var(--xr-background-color) !important;\n",
       "  padding-bottom: 5px !important;\n",
       "}\n",
       "\n",
       ".xr-var-attrs-in:checked ~ .xr-var-attrs,\n",
       ".xr-var-data-in:checked ~ .xr-var-data,\n",
       ".xr-index-data-in:checked ~ .xr-index-data {\n",
       "  display: block;\n",
       "}\n",
       "\n",
       ".xr-var-data > table {\n",
       "  float: right;\n",
       "}\n",
       "\n",
       ".xr-var-name span,\n",
       ".xr-var-data,\n",
       ".xr-index-name div,\n",
       ".xr-index-data,\n",
       ".xr-attrs {\n",
       "  padding-left: 25px !important;\n",
       "}\n",
       "\n",
       ".xr-attrs,\n",
       ".xr-var-attrs,\n",
       ".xr-var-data,\n",
       ".xr-index-data {\n",
       "  grid-column: 1 / -1;\n",
       "}\n",
       "\n",
       "dl.xr-attrs {\n",
       "  padding: 0;\n",
       "  margin: 0;\n",
       "  display: grid;\n",
       "  grid-template-columns: 125px auto;\n",
       "}\n",
       "\n",
       ".xr-attrs dt,\n",
       ".xr-attrs dd {\n",
       "  padding: 0;\n",
       "  margin: 0;\n",
       "  float: left;\n",
       "  padding-right: 10px;\n",
       "  width: auto;\n",
       "}\n",
       "\n",
       ".xr-attrs dt {\n",
       "  font-weight: normal;\n",
       "  grid-column: 1;\n",
       "}\n",
       "\n",
       ".xr-attrs dt:hover span {\n",
       "  display: inline-block;\n",
       "  background: var(--xr-background-color);\n",
       "  padding-right: 10px;\n",
       "}\n",
       "\n",
       ".xr-attrs dd {\n",
       "  grid-column: 2;\n",
       "  white-space: pre-wrap;\n",
       "  word-break: break-all;\n",
       "}\n",
       "\n",
       ".xr-icon-database,\n",
       ".xr-icon-file-text2,\n",
       ".xr-no-icon {\n",
       "  display: inline-block;\n",
       "  vertical-align: middle;\n",
       "  width: 1em;\n",
       "  height: 1.5em !important;\n",
       "  stroke-width: 0;\n",
       "  stroke: currentColor;\n",
       "  fill: currentColor;\n",
       "}\n",
       "</style><pre class='xr-text-repr-fallback'>&lt;xarray.Dataset&gt;\n",
       "Dimensions:                                  (row: 35881)\n",
       "Coordinates:\n",
       "    lat_uv                                   (row) float64 ...\n",
       "    lon_uv                                   (row) float64 ...\n",
       "    time_uv                                  (row) datetime64[ns] ...\n",
       "Dimensions without coordinates: row\n",
       "Data variables: (12/64)\n",
       "    trajectory                               (row) object ...\n",
       "    wmo_id                                   (row) object ...\n",
       "    profile_id                               (row) float64 ...\n",
       "    time                                     (row) datetime64[ns] ...\n",
       "    latitude                                 (row) float64 ...\n",
       "    longitude                                (row) float64 ...\n",
       "    ...                                       ...\n",
       "    time_qc                                  (row) float32 ...\n",
       "    time_uv_qc                               (row) float32 ...\n",
       "    u                                        (row) float64 ...\n",
       "    u_qc                                     (row) float32 ...\n",
       "    v                                        (row) float64 ...\n",
       "    v_qc                                     (row) float32 ...\n",
       "Attributes: (12/56)\n",
       "    acknowledgment:                This deployment supported by Heising-Simon...\n",
       "    cdm_data_type:                 TrajectoryProfile\n",
       "    cdm_profile_variables:         time_uv,lat_uv,lon_uv,u,v,profile_id,time,...\n",
       "    cdm_trajectory_variables:      trajectory,wmo_id\n",
       "    contributor_name:              Donglai Gong, Jeanna Hudson, Lydia Bienlie...\n",
       "    contributor_role:              Principal Investigator, Glider Pilot, Glid...\n",
       "    ...                            ...\n",
       "    subsetVariables:               wmo_id,trajectory,profile_id,time,latitude...\n",
       "    summary:                       This is a test mission for the Northwest P...\n",
       "    time_coverage_end:             2018-05-14T12:29:12Z\n",
       "    time_coverage_start:           2018-05-01T14:58:48Z\n",
       "    title:                         amelia-20180501T0000\n",
       "    Westernmost_Easting:           -75.07957909499224</pre><div class='xr-wrap' style='display:none'><div class='xr-header'><div class='xr-obj-type'>xarray.Dataset</div></div><ul class='xr-sections'><li class='xr-section-item'><input id='section-0c897c17-4db3-4008-9eea-6886cf51a575' class='xr-section-summary-in' type='checkbox' disabled ><label for='section-0c897c17-4db3-4008-9eea-6886cf51a575' class='xr-section-summary'  title='Expand/collapse section'>Dimensions:</label><div class='xr-section-inline-details'><ul class='xr-dim-list'><li><span>row</span>: 35881</li></ul></div><div class='xr-section-details'></div></li><li class='xr-section-item'><input id='section-8c6c2689-ac2b-4fc5-aee3-5de4e9226dab' class='xr-section-summary-in' type='checkbox'  checked><label for='section-8c6c2689-ac2b-4fc5-aee3-5de4e9226dab' class='xr-section-summary' >Coordinates: <span>(3)</span></label><div class='xr-section-inline-details'></div><div class='xr-section-details'><ul class='xr-var-list'><li class='xr-var-item'><div class='xr-var-name'><span>lat_uv</span></div><div class='xr-var-dims'>(row)</div><div class='xr-var-dtype'>float64</div><div class='xr-var-preview xr-preview'>...</div><input id='attrs-6706d990-7c4a-4347-a2da-b0b3026a7ad8' class='xr-var-attrs-in' type='checkbox' ><label for='attrs-6706d990-7c4a-4347-a2da-b0b3026a7ad8' title='Show/Hide attributes'><svg class='icon xr-icon-file-text2'><use xlink:href='#icon-file-text2'></use></svg></label><input id='data-90046187-c31e-4aa3-808b-ba3f8776a9b2' class='xr-var-data-in' type='checkbox'><label for='data-90046187-c31e-4aa3-808b-ba3f8776a9b2' title='Show/Hide data repr'><svg class='icon xr-icon-database'><use xlink:href='#icon-database'></use></svg></label><div class='xr-var-attrs'><dl class='xr-attrs'><dt><span>colorBarMaximum :</span></dt><dd>90.0</dd><dt><span>colorBarMinimum :</span></dt><dd>-90.0</dd><dt><span>comment :</span></dt><dd>The depth-averaged current is an estimate of the net current measured while the glider is underwater.  The value is calculated over the entire underwater segment, which may consist of 1 or more dives.</dd><dt><span>ioos_category :</span></dt><dd>Location</dd><dt><span>long_name :</span></dt><dd>Depth-averaged Latitude</dd><dt><span>observation_type :</span></dt><dd>calculated</dd><dt><span>platform :</span></dt><dd>platform</dd><dt><span>standard_name :</span></dt><dd>latitude</dd><dt><span>units :</span></dt><dd>degrees_north</dd><dt><span>valid_max :</span></dt><dd>90.0</dd><dt><span>valid_min :</span></dt><dd>-90.0</dd></dl></div><div class='xr-var-data'><pre>[35881 values with dtype=float64]</pre></div></li><li class='xr-var-item'><div class='xr-var-name'><span>lon_uv</span></div><div class='xr-var-dims'>(row)</div><div class='xr-var-dtype'>float64</div><div class='xr-var-preview xr-preview'>...</div><input id='attrs-85e15682-3808-4038-a04c-c63986f2ef6d' class='xr-var-attrs-in' type='checkbox' ><label for='attrs-85e15682-3808-4038-a04c-c63986f2ef6d' title='Show/Hide attributes'><svg class='icon xr-icon-file-text2'><use xlink:href='#icon-file-text2'></use></svg></label><input id='data-842f39e3-b18c-4fac-9d67-822651935f5a' class='xr-var-data-in' type='checkbox'><label for='data-842f39e3-b18c-4fac-9d67-822651935f5a' title='Show/Hide data repr'><svg class='icon xr-icon-database'><use xlink:href='#icon-database'></use></svg></label><div class='xr-var-attrs'><dl class='xr-attrs'><dt><span>colorBarMaximum :</span></dt><dd>180.0</dd><dt><span>colorBarMinimum :</span></dt><dd>-180.0</dd><dt><span>comment :</span></dt><dd>The depth-averaged current is an estimate of the net current measured while the glider is underwater.  The value is calculated over the entire underwater segment, which may consist of 1 or more dives.</dd><dt><span>ioos_category :</span></dt><dd>Location</dd><dt><span>long_name :</span></dt><dd>Depth-averaged Longitude</dd><dt><span>observation_type :</span></dt><dd>calculated</dd><dt><span>platform :</span></dt><dd>platform</dd><dt><span>standard_name :</span></dt><dd>longitude</dd><dt><span>units :</span></dt><dd>degrees_east</dd><dt><span>valid_max :</span></dt><dd>180.0</dd><dt><span>valid_min :</span></dt><dd>-180.0</dd></dl></div><div class='xr-var-data'><pre>[35881 values with dtype=float64]</pre></div></li><li class='xr-var-item'><div class='xr-var-name'><span>time_uv</span></div><div class='xr-var-dims'>(row)</div><div class='xr-var-dtype'>datetime64[ns]</div><div class='xr-var-preview xr-preview'>...</div><input id='attrs-77d7382c-c69f-4525-9926-6c9d6e96613f' class='xr-var-attrs-in' type='checkbox' ><label for='attrs-77d7382c-c69f-4525-9926-6c9d6e96613f' title='Show/Hide attributes'><svg class='icon xr-icon-file-text2'><use xlink:href='#icon-file-text2'></use></svg></label><input id='data-7a97b632-5319-4075-ab18-1bc97a1a5b14' class='xr-var-data-in' type='checkbox'><label for='data-7a97b632-5319-4075-ab18-1bc97a1a5b14' title='Show/Hide data repr'><svg class='icon xr-icon-database'><use xlink:href='#icon-database'></use></svg></label><div class='xr-var-attrs'><dl class='xr-attrs'><dt><span>comment :</span></dt><dd>The depth-averaged current is an estimate of the net current measured while the glider is underwater.  The value is calculated over the entire underwater segment, which may consist of 1 or more dives.</dd><dt><span>ioos_category :</span></dt><dd>Time</dd><dt><span>long_name :</span></dt><dd>Depth-averaged Time</dd><dt><span>observation_type :</span></dt><dd>calculated</dd><dt><span>standard_name :</span></dt><dd>time</dd><dt><span>time_origin :</span></dt><dd>01-JAN-1970 00:00:00</dd></dl></div><div class='xr-var-data'><pre>[35881 values with dtype=datetime64[ns]]</pre></div></li></ul></div></li><li class='xr-section-item'><input id='section-eb6a0630-f8c4-4c9a-b05c-d534b0443d09' class='xr-section-summary-in' type='checkbox'  ><label for='section-eb6a0630-f8c4-4c9a-b05c-d534b0443d09' class='xr-section-summary' >Data variables: <span>(64)</span></label><div class='xr-section-inline-details'></div><div class='xr-section-details'><ul class='xr-var-list'><li class='xr-var-item'><div class='xr-var-name'><span>trajectory</span></div><div class='xr-var-dims'>(row)</div><div class='xr-var-dtype'>object</div><div class='xr-var-preview xr-preview'>...</div><input id='attrs-de8686f9-5fe8-4f43-9a4b-c87a4af27008' class='xr-var-attrs-in' type='checkbox' ><label for='attrs-de8686f9-5fe8-4f43-9a4b-c87a4af27008' title='Show/Hide attributes'><svg class='icon xr-icon-file-text2'><use xlink:href='#icon-file-text2'></use></svg></label><input id='data-79b71219-1083-4e0f-9963-fc3fd2d4b1ab' class='xr-var-data-in' type='checkbox'><label for='data-79b71219-1083-4e0f-9963-fc3fd2d4b1ab' title='Show/Hide data repr'><svg class='icon xr-icon-database'><use xlink:href='#icon-database'></use></svg></label><div class='xr-var-attrs'><dl class='xr-attrs'><dt><span>_ChunkSizes :</span></dt><dd>20</dd><dt><span>cf_role :</span></dt><dd>trajectory_id</dd><dt><span>comment :</span></dt><dd>A trajectory is one deployment of a glider.</dd><dt><span>ioos_category :</span></dt><dd>Identifier</dd><dt><span>long_name :</span></dt><dd>Trajectory Name</dd></dl></div><div class='xr-var-data'><pre>[35881 values with dtype=object]</pre></div></li><li class='xr-var-item'><div class='xr-var-name'><span>wmo_id</span></div><div class='xr-var-dims'>(row)</div><div class='xr-var-dtype'>object</div><div class='xr-var-preview xr-preview'>...</div><input id='attrs-c7f3644f-ca18-4be3-a1b8-0b90972224c9' class='xr-var-attrs-in' type='checkbox' ><label for='attrs-c7f3644f-ca18-4be3-a1b8-0b90972224c9' title='Show/Hide attributes'><svg class='icon xr-icon-file-text2'><use xlink:href='#icon-file-text2'></use></svg></label><input id='data-df2f553f-729c-4efd-bea0-8794e936e698' class='xr-var-data-in' type='checkbox'><label for='data-df2f553f-729c-4efd-bea0-8794e936e698' title='Show/Hide data repr'><svg class='icon xr-icon-database'><use xlink:href='#icon-database'></use></svg></label><div class='xr-var-attrs'><dl class='xr-attrs'><dt><span>ioos_category :</span></dt><dd>Identifier</dd><dt><span>long_name :</span></dt><dd>WMO ID</dd></dl></div><div class='xr-var-data'><pre>[35881 values with dtype=object]</pre></div></li><li class='xr-var-item'><div class='xr-var-name'><span>profile_id</span></div><div class='xr-var-dims'>(row)</div><div class='xr-var-dtype'>float64</div><div class='xr-var-preview xr-preview'>...</div><input id='attrs-22ddc146-96c6-48d0-987c-7f5411953c59' class='xr-var-attrs-in' type='checkbox' ><label for='attrs-22ddc146-96c6-48d0-987c-7f5411953c59' title='Show/Hide attributes'><svg class='icon xr-icon-file-text2'><use xlink:href='#icon-file-text2'></use></svg></label><input id='data-528e4e6d-5051-41bb-8889-f622690f9f95' class='xr-var-data-in' type='checkbox'><label for='data-528e4e6d-5051-41bb-8889-f622690f9f95' title='Show/Hide data repr'><svg class='icon xr-icon-database'><use xlink:href='#icon-database'></use></svg></label><div class='xr-var-attrs'><dl class='xr-attrs'><dt><span>actual_range :</span></dt><dd>[   1 1397]</dd><dt><span>cf_role :</span></dt><dd>profile_id</dd><dt><span>comment :</span></dt><dd>Sequential profile number within the trajectory.  This value is unique in each file that is part of a single trajectory/deployment.</dd><dt><span>ioos_category :</span></dt><dd>Identifier</dd><dt><span>long_name :</span></dt><dd>Profile ID</dd><dt><span>valid_max :</span></dt><dd>2147483647</dd><dt><span>valid_min :</span></dt><dd>1</dd></dl></div><div class='xr-var-data'><pre>[35881 values with dtype=float64]</pre></div></li><li class='xr-var-item'><div class='xr-var-name'><span>time</span></div><div class='xr-var-dims'>(row)</div><div class='xr-var-dtype'>datetime64[ns]</div><div class='xr-var-preview xr-preview'>...</div><input id='attrs-9f0dd9e2-e6a4-4b72-ac89-458148a289b8' class='xr-var-attrs-in' type='checkbox' ><label for='attrs-9f0dd9e2-e6a4-4b72-ac89-458148a289b8' title='Show/Hide attributes'><svg class='icon xr-icon-file-text2'><use xlink:href='#icon-file-text2'></use></svg></label><input id='data-f78d36a6-fb0a-405b-b409-c642d41de0cc' class='xr-var-data-in' type='checkbox'><label for='data-f78d36a6-fb0a-405b-b409-c642d41de0cc' title='Show/Hide data repr'><svg class='icon xr-icon-database'><use xlink:href='#icon-database'></use></svg></label><div class='xr-var-attrs'><dl class='xr-attrs'><dt><span>_CoordinateAxisType :</span></dt><dd>Time</dd><dt><span>actual_range :</span></dt><dd>[1.52518673e+09 1.52630095e+09]</dd><dt><span>axis :</span></dt><dd>T</dd><dt><span>comment :</span></dt><dd>Timestamp corresponding to the mid-point of the profile.</dd><dt><span>ioos_category :</span></dt><dd>Time</dd><dt><span>long_name :</span></dt><dd>Profile Time</dd><dt><span>observation_type :</span></dt><dd>calculated</dd><dt><span>platform :</span></dt><dd>platform</dd><dt><span>standard_name :</span></dt><dd>time</dd><dt><span>time_origin :</span></dt><dd>01-JAN-1970 00:00:00</dd></dl></div><div class='xr-var-data'><pre>[35881 values with dtype=datetime64[ns]]</pre></div></li><li class='xr-var-item'><div class='xr-var-name'><span>latitude</span></div><div class='xr-var-dims'>(row)</div><div class='xr-var-dtype'>float64</div><div class='xr-var-preview xr-preview'>...</div><input id='attrs-360e26da-410d-40e7-b06d-8fa1a7f0d685' class='xr-var-attrs-in' type='checkbox' ><label for='attrs-360e26da-410d-40e7-b06d-8fa1a7f0d685' title='Show/Hide attributes'><svg class='icon xr-icon-file-text2'><use xlink:href='#icon-file-text2'></use></svg></label><input id='data-fec99954-ec0d-4a65-888a-d1f51e0b83c8' class='xr-var-data-in' type='checkbox'><label for='data-fec99954-ec0d-4a65-888a-d1f51e0b83c8' title='Show/Hide data repr'><svg class='icon xr-icon-database'><use xlink:href='#icon-database'></use></svg></label><div class='xr-var-attrs'><dl class='xr-attrs'><dt><span>_CoordinateAxisType :</span></dt><dd>Lat</dd><dt><span>actual_range :</span></dt><dd>[37.40443598 37.53959773]</dd><dt><span>axis :</span></dt><dd>Y</dd><dt><span>colorBarMaximum :</span></dt><dd>90.0</dd><dt><span>colorBarMinimum :</span></dt><dd>-90.0</dd><dt><span>comment :</span></dt><dd>Value is interpolated to provide an estimate of the latitude at the mid-point of the profile.</dd><dt><span>ioos_category :</span></dt><dd>Location</dd><dt><span>long_name :</span></dt><dd>Profile Latitude</dd><dt><span>observation_type :</span></dt><dd>calculated</dd><dt><span>platform :</span></dt><dd>platform</dd><dt><span>standard_name :</span></dt><dd>latitude</dd><dt><span>units :</span></dt><dd>degrees_north</dd><dt><span>valid_max :</span></dt><dd>90.0</dd><dt><span>valid_min :</span></dt><dd>-90.0</dd></dl></div><div class='xr-var-data'><pre>[35881 values with dtype=float64]</pre></div></li><li class='xr-var-item'><div class='xr-var-name'><span>longitude</span></div><div class='xr-var-dims'>(row)</div><div class='xr-var-dtype'>float64</div><div class='xr-var-preview xr-preview'>...</div><input id='attrs-e602f6a0-3b49-4c5c-9247-d33aeadefe2e' class='xr-var-attrs-in' type='checkbox' ><label for='attrs-e602f6a0-3b49-4c5c-9247-d33aeadefe2e' title='Show/Hide attributes'><svg class='icon xr-icon-file-text2'><use xlink:href='#icon-file-text2'></use></svg></label><input id='data-75126fb4-9cdc-42ae-afeb-5d2d61701912' class='xr-var-data-in' type='checkbox'><label for='data-75126fb4-9cdc-42ae-afeb-5d2d61701912' title='Show/Hide data repr'><svg class='icon xr-icon-database'><use xlink:href='#icon-database'></use></svg></label><div class='xr-var-attrs'><dl class='xr-attrs'><dt><span>_CoordinateAxisType :</span></dt><dd>Lon</dd><dt><span>actual_range :</span></dt><dd>[-75.07957909 -74.44578831]</dd><dt><span>axis :</span></dt><dd>X</dd><dt><span>colorBarMaximum :</span></dt><dd>180.0</dd><dt><span>colorBarMinimum :</span></dt><dd>-180.0</dd><dt><span>comment :</span></dt><dd>Value is interpolated to provide an estimate of the longitude at the mid-point of the profile.</dd><dt><span>ioos_category :</span></dt><dd>Location</dd><dt><span>long_name :</span></dt><dd>Profile Longitude</dd><dt><span>observation_type :</span></dt><dd>calculated</dd><dt><span>platform :</span></dt><dd>platform</dd><dt><span>standard_name :</span></dt><dd>longitude</dd><dt><span>units :</span></dt><dd>degrees_east</dd><dt><span>valid_max :</span></dt><dd>180.0</dd><dt><span>valid_min :</span></dt><dd>-180.0</dd></dl></div><div class='xr-var-data'><pre>[35881 values with dtype=float64]</pre></div></li><li class='xr-var-item'><div class='xr-var-name'><span>depth</span></div><div class='xr-var-dims'>(row)</div><div class='xr-var-dtype'>float32</div><div class='xr-var-preview xr-preview'>...</div><input id='attrs-30d2ffda-5ae9-46b9-b2ab-f1beddcede5e' class='xr-var-attrs-in' type='checkbox' ><label for='attrs-30d2ffda-5ae9-46b9-b2ab-f1beddcede5e' title='Show/Hide attributes'><svg class='icon xr-icon-file-text2'><use xlink:href='#icon-file-text2'></use></svg></label><input id='data-35b489c8-b576-42df-92d9-4d36ce4f2abb' class='xr-var-data-in' type='checkbox'><label for='data-35b489c8-b576-42df-92d9-4d36ce4f2abb' title='Show/Hide data repr'><svg class='icon xr-icon-database'><use xlink:href='#icon-database'></use></svg></label><div class='xr-var-attrs'><dl class='xr-attrs'><dt><span>_ChunkSizes :</span></dt><dd>10</dd><dt><span>_CoordinateAxisType :</span></dt><dd>Height</dd><dt><span>_CoordinateZisPositive :</span></dt><dd>down</dd><dt><span>actual_range :</span></dt><dd>[  1.04 351.18]</dd><dt><span>ancillary_variables :</span></dt><dd>depth_qc</dd><dt><span>axis :</span></dt><dd>Z</dd><dt><span>colorBarMaximum :</span></dt><dd>2000.0</dd><dt><span>colorBarMinimum :</span></dt><dd>0.0</dd><dt><span>colorBarPalette :</span></dt><dd>OceanDepth</dd><dt><span>instrument :</span></dt><dd>instrument_ctd</dd><dt><span>ioos_category :</span></dt><dd>Location</dd><dt><span>long_name :</span></dt><dd>Depth</dd><dt><span>observation_type :</span></dt><dd>calculated</dd><dt><span>platform :</span></dt><dd>platform</dd><dt><span>positive :</span></dt><dd>down</dd><dt><span>reference_datum :</span></dt><dd>sea-surface</dd><dt><span>standard_name :</span></dt><dd>depth</dd><dt><span>units :</span></dt><dd>m</dd><dt><span>valid_max :</span></dt><dd>2000.0</dd><dt><span>valid_min :</span></dt><dd>0.0</dd></dl></div><div class='xr-var-data'><pre>[35881 values with dtype=float32]</pre></div></li><li class='xr-var-item'><div class='xr-var-name'><span>conductivity</span></div><div class='xr-var-dims'>(row)</div><div class='xr-var-dtype'>float32</div><div class='xr-var-preview xr-preview'>...</div><input id='attrs-7e1a3b7a-bded-46be-83d3-959d25c24716' class='xr-var-attrs-in' type='checkbox' ><label for='attrs-7e1a3b7a-bded-46be-83d3-959d25c24716' title='Show/Hide attributes'><svg class='icon xr-icon-file-text2'><use xlink:href='#icon-file-text2'></use></svg></label><input id='data-6580e6ff-094a-4ed7-8b62-77fa14d283e7' class='xr-var-data-in' type='checkbox'><label for='data-6580e6ff-094a-4ed7-8b62-77fa14d283e7' title='Show/Hide data repr'><svg class='icon xr-icon-database'><use xlink:href='#icon-database'></use></svg></label><div class='xr-var-attrs'><dl class='xr-attrs'><dt><span>_ChunkSizes :</span></dt><dd>10</dd><dt><span>actual_range :</span></dt><dd>[3.4065  4.15836]</dd><dt><span>ancillary_variables :</span></dt><dd>qartod_conductivity_climatological_flag qartod_conductivity_flat_line_flag qartod_conductivity_gross_range_flag qartod_conductivity_rate_of_change_flag qartod_conductivity_spike_flag conductivity_qc</dd><dt><span>colorBarMaximum :</span></dt><dd>9.0</dd><dt><span>colorBarMinimum :</span></dt><dd>0.0</dd><dt><span>instrument :</span></dt><dd>instrument_ctd</dd><dt><span>ioos_category :</span></dt><dd>Salinity</dd><dt><span>long_name :</span></dt><dd>Sea Water Electrical Conductivity</dd><dt><span>observation_type :</span></dt><dd>measured</dd><dt><span>platform :</span></dt><dd>platform</dd><dt><span>standard_name :</span></dt><dd>sea_water_electrical_conductivity</dd><dt><span>units :</span></dt><dd>S m-1</dd><dt><span>valid_max :</span></dt><dd>10.0</dd><dt><span>valid_min :</span></dt><dd>0.0</dd></dl></div><div class='xr-var-data'><pre>[35881 values with dtype=float32]</pre></div></li><li class='xr-var-item'><div class='xr-var-name'><span>conductivity_qc</span></div><div class='xr-var-dims'>(row)</div><div class='xr-var-dtype'>float32</div><div class='xr-var-preview xr-preview'>...</div><input id='attrs-064b5a2a-381f-4819-a540-77c8c0330bed' class='xr-var-attrs-in' type='checkbox' ><label for='attrs-064b5a2a-381f-4819-a540-77c8c0330bed' title='Show/Hide attributes'><svg class='icon xr-icon-file-text2'><use xlink:href='#icon-file-text2'></use></svg></label><input id='data-2542e1c5-88c7-47ed-802c-1425b4547f23' class='xr-var-data-in' type='checkbox'><label for='data-2542e1c5-88c7-47ed-802c-1425b4547f23' title='Show/Hide data repr'><svg class='icon xr-icon-database'><use xlink:href='#icon-database'></use></svg></label><div class='xr-var-attrs'><dl class='xr-attrs'><dt><span>_ChunkSizes :</span></dt><dd>10</dd><dt><span>flag_meanings :</span></dt><dd>no_qc_performed good_data probably_good_data bad_data_that_are_potentially_correctable bad_data value_changed not_used not_used interpolated_value missing_value</dd><dt><span>flag_values :</span></dt><dd>[0 1 2 3 4 5 6 7 8 9]</dd><dt><span>ioos_category :</span></dt><dd>Quality</dd><dt><span>long_name :</span></dt><dd>conductivity Variable Quality Flag</dd><dt><span>standard_name :</span></dt><dd>sea_water_electrical_conductivity status_flag</dd><dt><span>valid_max :</span></dt><dd>9</dd><dt><span>valid_min :</span></dt><dd>0</dd></dl></div><div class='xr-var-data'><pre>[35881 values with dtype=float32]</pre></div></li><li class='xr-var-item'><div class='xr-var-name'><span>density</span></div><div class='xr-var-dims'>(row)</div><div class='xr-var-dtype'>float32</div><div class='xr-var-preview xr-preview'>...</div><input id='attrs-6f9e7aff-8eff-4558-a47b-c4679fdac21d' class='xr-var-attrs-in' type='checkbox' ><label for='attrs-6f9e7aff-8eff-4558-a47b-c4679fdac21d' title='Show/Hide attributes'><svg class='icon xr-icon-file-text2'><use xlink:href='#icon-file-text2'></use></svg></label><input id='data-91944762-3393-4341-bc47-06572af29b4c' class='xr-var-data-in' type='checkbox'><label for='data-91944762-3393-4341-bc47-06572af29b4c' title='Show/Hide data repr'><svg class='icon xr-icon-database'><use xlink:href='#icon-database'></use></svg></label><div class='xr-var-attrs'><dl class='xr-attrs'><dt><span>_ChunkSizes :</span></dt><dd>10</dd><dt><span>actual_range :</span></dt><dd>[1023.74  1028.948]</dd><dt><span>ancillary_variables :</span></dt><dd>qartod_density_climatological_flag qartod_density_flat_line_flag qartod_density_rate_of_change_flag qartod_density_spike_flag density_qc</dd><dt><span>colorBarMaximum :</span></dt><dd>1032.0</dd><dt><span>colorBarMinimum :</span></dt><dd>1020.0</dd><dt><span>instrument :</span></dt><dd>instrument_ctd</dd><dt><span>ioos_category :</span></dt><dd>Other</dd><dt><span>long_name :</span></dt><dd>Sea Water Density</dd><dt><span>observation_type :</span></dt><dd>calculated</dd><dt><span>platform :</span></dt><dd>platform</dd><dt><span>standard_name :</span></dt><dd>sea_water_density</dd><dt><span>units :</span></dt><dd>kg m-3</dd><dt><span>valid_max :</span></dt><dd>1040.0</dd><dt><span>valid_min :</span></dt><dd>1015.0</dd></dl></div><div class='xr-var-data'><pre>[35881 values with dtype=float32]</pre></div></li><li class='xr-var-item'><div class='xr-var-name'><span>density_qc</span></div><div class='xr-var-dims'>(row)</div><div class='xr-var-dtype'>float32</div><div class='xr-var-preview xr-preview'>...</div><input id='attrs-d718a11b-53bb-47dd-a3b6-ebd58ec921fe' class='xr-var-attrs-in' type='checkbox' ><label for='attrs-d718a11b-53bb-47dd-a3b6-ebd58ec921fe' title='Show/Hide attributes'><svg class='icon xr-icon-file-text2'><use xlink:href='#icon-file-text2'></use></svg></label><input id='data-fea29e17-d8c2-4aee-9b7a-86dfdf71f946' class='xr-var-data-in' type='checkbox'><label for='data-fea29e17-d8c2-4aee-9b7a-86dfdf71f946' title='Show/Hide data repr'><svg class='icon xr-icon-database'><use xlink:href='#icon-database'></use></svg></label><div class='xr-var-attrs'><dl class='xr-attrs'><dt><span>_ChunkSizes :</span></dt><dd>10</dd><dt><span>flag_meanings :</span></dt><dd>no_qc_performed good_data probably_good_data bad_data_that_are_potentially_correctable bad_data value_changed not_used not_used interpolated_value missing_value</dd><dt><span>flag_values :</span></dt><dd>[0 1 2 3 4 5 6 7 8 9]</dd><dt><span>ioos_category :</span></dt><dd>Quality</dd><dt><span>long_name :</span></dt><dd>density Variable Quality Flag</dd><dt><span>standard_name :</span></dt><dd>sea_water_density status_flag</dd><dt><span>valid_max :</span></dt><dd>9</dd><dt><span>valid_min :</span></dt><dd>0</dd></dl></div><div class='xr-var-data'><pre>[35881 values with dtype=float32]</pre></div></li><li class='xr-var-item'><div class='xr-var-name'><span>depth_qc</span></div><div class='xr-var-dims'>(row)</div><div class='xr-var-dtype'>float32</div><div class='xr-var-preview xr-preview'>...</div><input id='attrs-bb235b7e-31fb-4a92-b518-529f0dd2fc5d' class='xr-var-attrs-in' type='checkbox' ><label for='attrs-bb235b7e-31fb-4a92-b518-529f0dd2fc5d' title='Show/Hide attributes'><svg class='icon xr-icon-file-text2'><use xlink:href='#icon-file-text2'></use></svg></label><input id='data-5960e2a7-622b-4b92-8daf-224d08b2c022' class='xr-var-data-in' type='checkbox'><label for='data-5960e2a7-622b-4b92-8daf-224d08b2c022' title='Show/Hide data repr'><svg class='icon xr-icon-database'><use xlink:href='#icon-database'></use></svg></label><div class='xr-var-attrs'><dl class='xr-attrs'><dt><span>_ChunkSizes :</span></dt><dd>10</dd><dt><span>flag_meanings :</span></dt><dd>no_qc_performed good_data probably_good_data bad_data_that_are_potentially_correctable bad_data value_changed not_used not_used interpolated_value missing_value</dd><dt><span>flag_values :</span></dt><dd>[0 1 2 3 4 5 6 7 8 9]</dd><dt><span>ioos_category :</span></dt><dd>Quality</dd><dt><span>long_name :</span></dt><dd>depth Variable Quality Flag</dd><dt><span>standard_name :</span></dt><dd>depth status_flag</dd><dt><span>valid_max :</span></dt><dd>9</dd><dt><span>valid_min :</span></dt><dd>0</dd></dl></div><div class='xr-var-data'><pre>[35881 values with dtype=float32]</pre></div></li><li class='xr-var-item'><div class='xr-var-name'><span>instrument_ctd</span></div><div class='xr-var-dims'>(row)</div><div class='xr-var-dtype'>float32</div><div class='xr-var-preview xr-preview'>...</div><input id='attrs-6238ecbf-96f5-4d9c-b258-aa85eb49e09f' class='xr-var-attrs-in' type='checkbox' ><label for='attrs-6238ecbf-96f5-4d9c-b258-aa85eb49e09f' title='Show/Hide attributes'><svg class='icon xr-icon-file-text2'><use xlink:href='#icon-file-text2'></use></svg></label><input id='data-e4966f62-16f8-49c3-8bd2-92f53d451d6a' class='xr-var-data-in' type='checkbox'><label for='data-e4966f62-16f8-49c3-8bd2-92f53d451d6a' title='Show/Hide data repr'><svg class='icon xr-icon-database'><use xlink:href='#icon-database'></use></svg></label><div class='xr-var-attrs'><dl class='xr-attrs'><dt><span>calibration_date :</span></dt><dd>2013/06/13</dd><dt><span>comment :</span></dt><dd>pumped CTD</dd><dt><span>factory_calibrated :</span></dt><dd>2013/06/13</dd><dt><span>ioos_category :</span></dt><dd>Identifier</dd><dt><span>long_name :</span></dt><dd>CTD Metadata</dd><dt><span>make_model :</span></dt><dd>Seabird GPCTD</dd><dt><span>platform :</span></dt><dd>platform</dd><dt><span>serial_number :</span></dt><dd>9092</dd><dt><span>type :</span></dt><dd>platform</dd><dt><span>units :</span></dt><dd>1</dd></dl></div><div class='xr-var-data'><pre>[35881 values with dtype=float32]</pre></div></li><li class='xr-var-item'><div class='xr-var-name'><span>lat_qc</span></div><div class='xr-var-dims'>(row)</div><div class='xr-var-dtype'>float32</div><div class='xr-var-preview xr-preview'>...</div><input id='attrs-fae4136e-8f2e-4852-a153-83ca39c9a6a4' class='xr-var-attrs-in' type='checkbox' ><label for='attrs-fae4136e-8f2e-4852-a153-83ca39c9a6a4' title='Show/Hide attributes'><svg class='icon xr-icon-file-text2'><use xlink:href='#icon-file-text2'></use></svg></label><input id='data-74f732ed-1caa-46e9-a11d-be6373c64830' class='xr-var-data-in' type='checkbox'><label for='data-74f732ed-1caa-46e9-a11d-be6373c64830' title='Show/Hide data repr'><svg class='icon xr-icon-database'><use xlink:href='#icon-database'></use></svg></label><div class='xr-var-attrs'><dl class='xr-attrs'><dt><span>_ChunkSizes :</span></dt><dd>10</dd><dt><span>flag_meanings :</span></dt><dd>no_qc_performed good_data probably_good_data bad_data_that_are_potentially_correctable bad_data value_changed not_used not_used interpolated_value missing_value</dd><dt><span>flag_values :</span></dt><dd>[0 1 2 3 4 5 6 7 8 9]</dd><dt><span>ioos_category :</span></dt><dd>Quality</dd><dt><span>long_name :</span></dt><dd>lat Quality Flag</dd><dt><span>standard_name :</span></dt><dd>latitude status_flag</dd><dt><span>valid_max :</span></dt><dd>9</dd><dt><span>valid_min :</span></dt><dd>0</dd></dl></div><div class='xr-var-data'><pre>[35881 values with dtype=float32]</pre></div></li><li class='xr-var-item'><div class='xr-var-name'><span>lat_uv_qc</span></div><div class='xr-var-dims'>(row)</div><div class='xr-var-dtype'>float32</div><div class='xr-var-preview xr-preview'>...</div><input id='attrs-aa16cd66-5a72-4d81-883e-39cbffe7d798' class='xr-var-attrs-in' type='checkbox' ><label for='attrs-aa16cd66-5a72-4d81-883e-39cbffe7d798' title='Show/Hide attributes'><svg class='icon xr-icon-file-text2'><use xlink:href='#icon-file-text2'></use></svg></label><input id='data-6fc2ae8d-1289-4199-b57f-201236e3cd40' class='xr-var-data-in' type='checkbox'><label for='data-6fc2ae8d-1289-4199-b57f-201236e3cd40' title='Show/Hide data repr'><svg class='icon xr-icon-database'><use xlink:href='#icon-database'></use></svg></label><div class='xr-var-attrs'><dl class='xr-attrs'><dt><span>flag_meanings :</span></dt><dd>no_qc_performed good_data probably_good_data bad_data_that_are_potentially_correctable bad_data value_changed not_used not_used interpolated_value missing_value</dd><dt><span>flag_values :</span></dt><dd>[0 1 2 3 4 5 6 7 8 9]</dd><dt><span>ioos_category :</span></dt><dd>Quality</dd><dt><span>long_name :</span></dt><dd>lat_uv Variable Quality Flag</dd><dt><span>standard_name :</span></dt><dd>latitude status_flag</dd><dt><span>valid_max :</span></dt><dd>9</dd><dt><span>valid_min :</span></dt><dd>0</dd></dl></div><div class='xr-var-data'><pre>[35881 values with dtype=float32]</pre></div></li><li class='xr-var-item'><div class='xr-var-name'><span>latitude_qc</span></div><div class='xr-var-dims'>(row)</div><div class='xr-var-dtype'>float32</div><div class='xr-var-preview xr-preview'>...</div><input id='attrs-021c059c-81e5-4535-befe-b89baf45c978' class='xr-var-attrs-in' type='checkbox' ><label for='attrs-021c059c-81e5-4535-befe-b89baf45c978' title='Show/Hide attributes'><svg class='icon xr-icon-file-text2'><use xlink:href='#icon-file-text2'></use></svg></label><input id='data-fabef1e2-1250-4ad1-959f-1d01cfec6269' class='xr-var-data-in' type='checkbox'><label for='data-fabef1e2-1250-4ad1-959f-1d01cfec6269' title='Show/Hide data repr'><svg class='icon xr-icon-database'><use xlink:href='#icon-database'></use></svg></label><div class='xr-var-attrs'><dl class='xr-attrs'><dt><span>flag_meanings :</span></dt><dd>no_qc_performed good_data probably_good_data bad_data_that_are_potentially_correctable bad_data value_changed not_used not_used interpolated_value missing_value</dd><dt><span>flag_values :</span></dt><dd>[0 1 2 3 4 5 6 7 8 9]</dd><dt><span>ioos_category :</span></dt><dd>Quality</dd><dt><span>long_name :</span></dt><dd>latitude Variable Quality Flag</dd><dt><span>standard_name :</span></dt><dd>latitude status_flag</dd><dt><span>valid_max :</span></dt><dd>9</dd><dt><span>valid_min :</span></dt><dd>0</dd></dl></div><div class='xr-var-data'><pre>[35881 values with dtype=float32]</pre></div></li><li class='xr-var-item'><div class='xr-var-name'><span>lon_qc</span></div><div class='xr-var-dims'>(row)</div><div class='xr-var-dtype'>float32</div><div class='xr-var-preview xr-preview'>...</div><input id='attrs-067e7641-03dc-4a3a-bdc0-c89f9716b59f' class='xr-var-attrs-in' type='checkbox' ><label for='attrs-067e7641-03dc-4a3a-bdc0-c89f9716b59f' title='Show/Hide attributes'><svg class='icon xr-icon-file-text2'><use xlink:href='#icon-file-text2'></use></svg></label><input id='data-0d4960f6-478c-4ab7-9543-74cb8c1d54e2' class='xr-var-data-in' type='checkbox'><label for='data-0d4960f6-478c-4ab7-9543-74cb8c1d54e2' title='Show/Hide data repr'><svg class='icon xr-icon-database'><use xlink:href='#icon-database'></use></svg></label><div class='xr-var-attrs'><dl class='xr-attrs'><dt><span>_ChunkSizes :</span></dt><dd>10</dd><dt><span>flag_meanings :</span></dt><dd>no_qc_performed good_data probably_good_data bad_data_that_are_potentially_correctable bad_data value_changed not_used not_used interpolated_value missing_value</dd><dt><span>flag_values :</span></dt><dd>[0 1 2 3 4 5 6 7 8 9]</dd><dt><span>ioos_category :</span></dt><dd>Quality</dd><dt><span>long_name :</span></dt><dd>lon Quality Flag</dd><dt><span>standard_name :</span></dt><dd>longitude status_flag</dd><dt><span>valid_max :</span></dt><dd>9</dd><dt><span>valid_min :</span></dt><dd>0</dd></dl></div><div class='xr-var-data'><pre>[35881 values with dtype=float32]</pre></div></li><li class='xr-var-item'><div class='xr-var-name'><span>lon_uv_qc</span></div><div class='xr-var-dims'>(row)</div><div class='xr-var-dtype'>float32</div><div class='xr-var-preview xr-preview'>...</div><input id='attrs-61a2d77d-a081-4a30-b321-8b1ecf570a3f' class='xr-var-attrs-in' type='checkbox' ><label for='attrs-61a2d77d-a081-4a30-b321-8b1ecf570a3f' title='Show/Hide attributes'><svg class='icon xr-icon-file-text2'><use xlink:href='#icon-file-text2'></use></svg></label><input id='data-2d7301fa-4de8-459f-8fe5-09061415ef10' class='xr-var-data-in' type='checkbox'><label for='data-2d7301fa-4de8-459f-8fe5-09061415ef10' title='Show/Hide data repr'><svg class='icon xr-icon-database'><use xlink:href='#icon-database'></use></svg></label><div class='xr-var-attrs'><dl class='xr-attrs'><dt><span>flag_meanings :</span></dt><dd>no_qc_performed good_data probably_good_data bad_data_that_are_potentially_correctable bad_data value_changed not_used not_used interpolated_value missing_value</dd><dt><span>flag_values :</span></dt><dd>[0 1 2 3 4 5 6 7 8 9]</dd><dt><span>ioos_category :</span></dt><dd>Quality</dd><dt><span>long_name :</span></dt><dd>lon_uv Variable Quality Flag</dd><dt><span>standard_name :</span></dt><dd>longitude status_flag</dd><dt><span>valid_max :</span></dt><dd>9</dd><dt><span>valid_min :</span></dt><dd>0</dd></dl></div><div class='xr-var-data'><pre>[35881 values with dtype=float32]</pre></div></li><li class='xr-var-item'><div class='xr-var-name'><span>longitude_qc</span></div><div class='xr-var-dims'>(row)</div><div class='xr-var-dtype'>float32</div><div class='xr-var-preview xr-preview'>...</div><input id='attrs-f874ec00-3cae-42ff-abf8-f95cf65bb532' class='xr-var-attrs-in' type='checkbox' ><label for='attrs-f874ec00-3cae-42ff-abf8-f95cf65bb532' title='Show/Hide attributes'><svg class='icon xr-icon-file-text2'><use xlink:href='#icon-file-text2'></use></svg></label><input id='data-a819b42d-ec57-4960-964e-e5d272fb710b' class='xr-var-data-in' type='checkbox'><label for='data-a819b42d-ec57-4960-964e-e5d272fb710b' title='Show/Hide data repr'><svg class='icon xr-icon-database'><use xlink:href='#icon-database'></use></svg></label><div class='xr-var-attrs'><dl class='xr-attrs'><dt><span>flag_meanings :</span></dt><dd>no_qc_performed good_data probably_good_data bad_data_that_are_potentially_correctable bad_data value_changed not_used not_used interpolated_value missing_value</dd><dt><span>flag_values :</span></dt><dd>[0 1 2 3 4 5 6 7 8 9]</dd><dt><span>ioos_category :</span></dt><dd>Quality</dd><dt><span>long_name :</span></dt><dd>longitude Variable Quality Flag</dd><dt><span>standard_name :</span></dt><dd>longitude status_flag</dd><dt><span>valid_max :</span></dt><dd>9</dd><dt><span>valid_min :</span></dt><dd>0</dd></dl></div><div class='xr-var-data'><pre>[35881 values with dtype=float32]</pre></div></li><li class='xr-var-item'><div class='xr-var-name'><span>platform_meta</span></div><div class='xr-var-dims'>(row)</div><div class='xr-var-dtype'>float32</div><div class='xr-var-preview xr-preview'>...</div><input id='attrs-97b22291-121a-4017-8f58-26c7b2df23ea' class='xr-var-attrs-in' type='checkbox' ><label for='attrs-97b22291-121a-4017-8f58-26c7b2df23ea' title='Show/Hide attributes'><svg class='icon xr-icon-file-text2'><use xlink:href='#icon-file-text2'></use></svg></label><input id='data-04b48890-d36f-458d-9daa-02947cca20ad' class='xr-var-data-in' type='checkbox'><label for='data-04b48890-d36f-458d-9daa-02947cca20ad' title='Show/Hide data repr'><svg class='icon xr-icon-database'><use xlink:href='#icon-database'></use></svg></label><div class='xr-var-attrs'><dl class='xr-attrs'><dt><span>comment :</span></dt><dd>VIMS Slocum Glider Amelia</dd><dt><span>id :</span></dt><dd>amelia</dd><dt><span>instrument :</span></dt><dd>instrument_ctd</dd><dt><span>ioos_category :</span></dt><dd>Identifier</dd><dt><span>long_name :</span></dt><dd>Platform Metadata</dd><dt><span>type :</span></dt><dd>platform</dd><dt><span>units :</span></dt><dd>1</dd><dt><span>wmo_id :</span></dt><dd>4801934</dd></dl></div><div class='xr-var-data'><pre>[35881 values with dtype=float32]</pre></div></li><li class='xr-var-item'><div class='xr-var-name'><span>precise_lat</span></div><div class='xr-var-dims'>(row)</div><div class='xr-var-dtype'>float64</div><div class='xr-var-preview xr-preview'>...</div><input id='attrs-d81a8f5b-a057-4a30-81c6-28b48778cfcb' class='xr-var-attrs-in' type='checkbox' ><label for='attrs-d81a8f5b-a057-4a30-81c6-28b48778cfcb' title='Show/Hide attributes'><svg class='icon xr-icon-file-text2'><use xlink:href='#icon-file-text2'></use></svg></label><input id='data-15a3b845-ca0d-4642-bd73-eba7a6a5c780' class='xr-var-data-in' type='checkbox'><label for='data-15a3b845-ca0d-4642-bd73-eba7a6a5c780' title='Show/Hide data repr'><svg class='icon xr-icon-database'><use xlink:href='#icon-database'></use></svg></label><div class='xr-var-attrs'><dl class='xr-attrs'><dt><span>_ChunkSizes :</span></dt><dd>10</dd><dt><span>actual_range :</span></dt><dd>[37.4043052  37.53965341]</dd><dt><span>ancillary_variables :</span></dt><dd>qartod_location_flag lat_qc</dd><dt><span>ancillary_varibles :</span></dt><dd>precise_lat_qc</dd><dt><span>colorBarMaximum :</span></dt><dd>90.0</dd><dt><span>colorBarMinimum :</span></dt><dd>-90.0</dd><dt><span>comment :</span></dt><dd>Interpolated latitude at each point in the time-series</dd><dt><span>coordinate_reference_frame :</span></dt><dd>urn:ogc:crs:EPSG::4326</dd><dt><span>ioos_category :</span></dt><dd>Location</dd><dt><span>long_name :</span></dt><dd>Precise Latitude</dd><dt><span>observation_type :</span></dt><dd>measured</dd><dt><span>platform :</span></dt><dd>platform</dd><dt><span>reference :</span></dt><dd>WGS84</dd><dt><span>standard_name :</span></dt><dd>latitude</dd><dt><span>units :</span></dt><dd>degrees_north</dd><dt><span>valid_max :</span></dt><dd>90.0</dd><dt><span>valid_min :</span></dt><dd>-90.0</dd></dl></div><div class='xr-var-data'><pre>[35881 values with dtype=float64]</pre></div></li><li class='xr-var-item'><div class='xr-var-name'><span>precise_lat_qc</span></div><div class='xr-var-dims'>(row)</div><div class='xr-var-dtype'>float32</div><div class='xr-var-preview xr-preview'>...</div><input id='attrs-d1cefea1-1edb-4560-a90c-43653d1c8120' class='xr-var-attrs-in' type='checkbox' ><label for='attrs-d1cefea1-1edb-4560-a90c-43653d1c8120' title='Show/Hide attributes'><svg class='icon xr-icon-file-text2'><use xlink:href='#icon-file-text2'></use></svg></label><input id='data-b8f58574-d85d-49fc-bf89-a317af0a692f' class='xr-var-data-in' type='checkbox'><label for='data-b8f58574-d85d-49fc-bf89-a317af0a692f' title='Show/Hide data repr'><svg class='icon xr-icon-database'><use xlink:href='#icon-database'></use></svg></label><div class='xr-var-attrs'><dl class='xr-attrs'><dt><span>flag_meanings :</span></dt><dd>no_qc_performed good_data probably_good_data bad_data_that_are_potentially_correctable bad_data value_changed interpolated_value missing_value</dd><dt><span>flag_values :</span></dt><dd>[0 1 2 3 4 5 6 7 8 9]</dd><dt><span>ioos_category :</span></dt><dd>Quality</dd><dt><span>long_name :</span></dt><dd>precise_lat Variable Quality Flag</dd><dt><span>valid_max :</span></dt><dd>9</dd><dt><span>valid_min :</span></dt><dd>0</dd></dl></div><div class='xr-var-data'><pre>[35881 values with dtype=float32]</pre></div></li><li class='xr-var-item'><div class='xr-var-name'><span>precise_lon</span></div><div class='xr-var-dims'>(row)</div><div class='xr-var-dtype'>float64</div><div class='xr-var-preview xr-preview'>...</div><input id='attrs-a59952a9-f06f-44c3-af37-67f4e373159f' class='xr-var-attrs-in' type='checkbox' ><label for='attrs-a59952a9-f06f-44c3-af37-67f4e373159f' title='Show/Hide attributes'><svg class='icon xr-icon-file-text2'><use xlink:href='#icon-file-text2'></use></svg></label><input id='data-b7ab4fc7-c72c-4b14-be30-26ca4080a64c' class='xr-var-data-in' type='checkbox'><label for='data-b7ab4fc7-c72c-4b14-be30-26ca4080a64c' title='Show/Hide data repr'><svg class='icon xr-icon-database'><use xlink:href='#icon-database'></use></svg></label><div class='xr-var-attrs'><dl class='xr-attrs'><dt><span>_ChunkSizes :</span></dt><dd>10</dd><dt><span>actual_range :</span></dt><dd>[-75.07963135 -74.44517845]</dd><dt><span>ancillary_variables :</span></dt><dd>qartod_location_flag lon_qc</dd><dt><span>ancillary_varibles :</span></dt><dd>precise_lon_qc</dd><dt><span>colorBarMaximum :</span></dt><dd>180.0</dd><dt><span>colorBarMinimum :</span></dt><dd>-180.0</dd><dt><span>comment :</span></dt><dd>Interpolated longitude at each point in the time-series</dd><dt><span>coordinate_reference_frame :</span></dt><dd>urn:ogc:crs:EPSG::4326</dd><dt><span>ioos_category :</span></dt><dd>Location</dd><dt><span>long_name :</span></dt><dd>Precise Longitude</dd><dt><span>observation_type :</span></dt><dd>measured</dd><dt><span>platform :</span></dt><dd>platform</dd><dt><span>reference :</span></dt><dd>WGS84</dd><dt><span>standard_name :</span></dt><dd>longitude</dd><dt><span>units :</span></dt><dd>degrees_east</dd><dt><span>valid_max :</span></dt><dd>180.0</dd><dt><span>valid_min :</span></dt><dd>-180.0</dd></dl></div><div class='xr-var-data'><pre>[35881 values with dtype=float64]</pre></div></li><li class='xr-var-item'><div class='xr-var-name'><span>precise_lon_qc</span></div><div class='xr-var-dims'>(row)</div><div class='xr-var-dtype'>float32</div><div class='xr-var-preview xr-preview'>...</div><input id='attrs-8612b8f4-3b83-4e8b-a52d-823bfe7dd544' class='xr-var-attrs-in' type='checkbox' ><label for='attrs-8612b8f4-3b83-4e8b-a52d-823bfe7dd544' title='Show/Hide attributes'><svg class='icon xr-icon-file-text2'><use xlink:href='#icon-file-text2'></use></svg></label><input id='data-a986bb99-6716-4815-9938-e73cea173929' class='xr-var-data-in' type='checkbox'><label for='data-a986bb99-6716-4815-9938-e73cea173929' title='Show/Hide data repr'><svg class='icon xr-icon-database'><use xlink:href='#icon-database'></use></svg></label><div class='xr-var-attrs'><dl class='xr-attrs'><dt><span>flag_meanings :</span></dt><dd>no_qc_performed good_data probably_good_data bad_data_that_are_potentially_correctable bad_data value_changed interpolated_value missing_value</dd><dt><span>flag_values :</span></dt><dd>[0 1 2 3 4 5 6 7 8 9]</dd><dt><span>ioos_category :</span></dt><dd>Quality</dd><dt><span>long_name :</span></dt><dd>precise_lon Variable Quality Flag</dd><dt><span>valid_max :</span></dt><dd>9</dd><dt><span>valid_min :</span></dt><dd>0</dd></dl></div><div class='xr-var-data'><pre>[35881 values with dtype=float32]</pre></div></li><li class='xr-var-item'><div class='xr-var-name'><span>precise_time</span></div><div class='xr-var-dims'>(row)</div><div class='xr-var-dtype'>datetime64[ns]</div><div class='xr-var-preview xr-preview'>...</div><input id='attrs-6cb90aa9-fcfc-4450-abea-c54bc5647b21' class='xr-var-attrs-in' type='checkbox' ><label for='attrs-6cb90aa9-fcfc-4450-abea-c54bc5647b21' title='Show/Hide attributes'><svg class='icon xr-icon-file-text2'><use xlink:href='#icon-file-text2'></use></svg></label><input id='data-1d16ef31-b29b-41a9-a327-474d5876ff21' class='xr-var-data-in' type='checkbox'><label for='data-1d16ef31-b29b-41a9-a327-474d5876ff21' title='Show/Hide data repr'><svg class='icon xr-icon-database'><use xlink:href='#icon-database'></use></svg></label><div class='xr-var-attrs'><dl class='xr-attrs'><dt><span>_ChunkSizes :</span></dt><dd>10</dd><dt><span>actual_range :</span></dt><dd>[1.52518669e+09 1.52630098e+09]</dd><dt><span>ancillary_variables :</span></dt><dd>time_qc</dd><dt><span>comment :</span></dt><dd>Timestamp at each point in the time-series</dd><dt><span>ioos_category :</span></dt><dd>Time</dd><dt><span>long_name :</span></dt><dd>Precise Time</dd><dt><span>observation_type :</span></dt><dd>measured</dd><dt><span>standard_name :</span></dt><dd>time</dd><dt><span>time_origin :</span></dt><dd>01-JAN-1970 00:00:00</dd></dl></div><div class='xr-var-data'><pre>[35881 values with dtype=datetime64[ns]]</pre></div></li><li class='xr-var-item'><div class='xr-var-name'><span>precise_time_qc</span></div><div class='xr-var-dims'>(row)</div><div class='xr-var-dtype'>float32</div><div class='xr-var-preview xr-preview'>...</div><input id='attrs-5e17b142-3f2d-41f9-8c33-571baadb1248' class='xr-var-attrs-in' type='checkbox' ><label for='attrs-5e17b142-3f2d-41f9-8c33-571baadb1248' title='Show/Hide attributes'><svg class='icon xr-icon-file-text2'><use xlink:href='#icon-file-text2'></use></svg></label><input id='data-bc0358eb-c91a-457a-ac01-1cfa626138f8' class='xr-var-data-in' type='checkbox'><label for='data-bc0358eb-c91a-457a-ac01-1cfa626138f8' title='Show/Hide data repr'><svg class='icon xr-icon-database'><use xlink:href='#icon-database'></use></svg></label><div class='xr-var-attrs'><dl class='xr-attrs'><dt><span>_ChunkSizes :</span></dt><dd>10</dd><dt><span>flag_meanings :</span></dt><dd>no_qc_performed good_data probably_good_data bad_data_that_are_potentially_correctable bad_data value_changed not_used not_used interpolated_value missing_value</dd><dt><span>flag_values :</span></dt><dd>[0 1 2 3 4 5 6 7 8 9]</dd><dt><span>ioos_category :</span></dt><dd>Quality</dd><dt><span>long_name :</span></dt><dd>precise_time Variable Quality Flag</dd><dt><span>standard_name :</span></dt><dd>time status_flag</dd><dt><span>valid_max :</span></dt><dd>9</dd><dt><span>valid_min :</span></dt><dd>0</dd></dl></div><div class='xr-var-data'><pre>[35881 values with dtype=float32]</pre></div></li><li class='xr-var-item'><div class='xr-var-name'><span>pressure</span></div><div class='xr-var-dims'>(row)</div><div class='xr-var-dtype'>float32</div><div class='xr-var-preview xr-preview'>...</div><input id='attrs-cf5eb760-646d-485f-a19e-92f1e441af67' class='xr-var-attrs-in' type='checkbox' ><label for='attrs-cf5eb760-646d-485f-a19e-92f1e441af67' title='Show/Hide attributes'><svg class='icon xr-icon-file-text2'><use xlink:href='#icon-file-text2'></use></svg></label><input id='data-117ababf-e843-4cf3-8a8d-015538856245' class='xr-var-data-in' type='checkbox'><label for='data-117ababf-e843-4cf3-8a8d-015538856245' title='Show/Hide data repr'><svg class='icon xr-icon-database'><use xlink:href='#icon-database'></use></svg></label><div class='xr-var-attrs'><dl class='xr-attrs'><dt><span>_ChunkSizes :</span></dt><dd>10</dd><dt><span>actual_range :</span></dt><dd>[  1.04 351.18]</dd><dt><span>ancillary_variables :</span></dt><dd>qartod_monotonic_pressure_flag qartod_pressure_flat_line_flag qartod_pressure_gross_range_flag qartod_pressure_rate_of_change_flag qartod_pressure_spike_flag pressure_qc</dd><dt><span>colorBarMaximum :</span></dt><dd>2000.0</dd><dt><span>colorBarMinimum :</span></dt><dd>0.0</dd><dt><span>instrument :</span></dt><dd>instrument_ctd</dd><dt><span>ioos_category :</span></dt><dd>Pressure</dd><dt><span>long_name :</span></dt><dd>Sea Water Pressure</dd><dt><span>observation_type :</span></dt><dd>measured</dd><dt><span>platform :</span></dt><dd>platform</dd><dt><span>positive :</span></dt><dd>down</dd><dt><span>reference_datum :</span></dt><dd>sea-surface</dd><dt><span>standard_name :</span></dt><dd>sea_water_pressure</dd><dt><span>units :</span></dt><dd>dbar</dd><dt><span>valid_max :</span></dt><dd>2000.0</dd><dt><span>valid_min :</span></dt><dd>0.0</dd></dl></div><div class='xr-var-data'><pre>[35881 values with dtype=float32]</pre></div></li><li class='xr-var-item'><div class='xr-var-name'><span>pressure_qc</span></div><div class='xr-var-dims'>(row)</div><div class='xr-var-dtype'>float32</div><div class='xr-var-preview xr-preview'>...</div><input id='attrs-046735fe-9439-4ce8-8669-d365ce159fe7' class='xr-var-attrs-in' type='checkbox' ><label for='attrs-046735fe-9439-4ce8-8669-d365ce159fe7' title='Show/Hide attributes'><svg class='icon xr-icon-file-text2'><use xlink:href='#icon-file-text2'></use></svg></label><input id='data-4290fc96-8e67-4129-abc1-f548b0c088d4' class='xr-var-data-in' type='checkbox'><label for='data-4290fc96-8e67-4129-abc1-f548b0c088d4' title='Show/Hide data repr'><svg class='icon xr-icon-database'><use xlink:href='#icon-database'></use></svg></label><div class='xr-var-attrs'><dl class='xr-attrs'><dt><span>_ChunkSizes :</span></dt><dd>10</dd><dt><span>flag_meanings :</span></dt><dd>no_qc_performed good_data probably_good_data bad_data_that_are_potentially_correctable bad_data value_changed not_used not_used interpolated_value missing_value</dd><dt><span>flag_values :</span></dt><dd>[0 1 2 3 4 5 6 7 8 9]</dd><dt><span>ioos_category :</span></dt><dd>Quality</dd><dt><span>long_name :</span></dt><dd>pressure Variable Quality Flag</dd><dt><span>standard_name :</span></dt><dd>sea_water_pressure status_flag</dd><dt><span>valid_max :</span></dt><dd>9</dd><dt><span>valid_min :</span></dt><dd>0</dd></dl></div><div class='xr-var-data'><pre>[35881 values with dtype=float32]</pre></div></li><li class='xr-var-item'><div class='xr-var-name'><span>qartod_conductivity_climatological_flag</span></div><div class='xr-var-dims'>(row)</div><div class='xr-var-dtype'>float32</div><div class='xr-var-preview xr-preview'>...</div><input id='attrs-3695bdfa-76b0-42ce-8645-a4a1d18c24b5' class='xr-var-attrs-in' type='checkbox' ><label for='attrs-3695bdfa-76b0-42ce-8645-a4a1d18c24b5' title='Show/Hide attributes'><svg class='icon xr-icon-file-text2'><use xlink:href='#icon-file-text2'></use></svg></label><input id='data-d8661004-e2b6-4a0a-8bb6-a57e859b94a4' class='xr-var-data-in' type='checkbox'><label for='data-d8661004-e2b6-4a0a-8bb6-a57e859b94a4' title='Show/Hide data repr'><svg class='icon xr-icon-database'><use xlink:href='#icon-database'></use></svg></label><div class='xr-var-attrs'><dl class='xr-attrs'><dt><span>_ChunkSizes :</span></dt><dd>10</dd><dt><span>comment :</span></dt><dd>QARTOD conductivity climatological test</dd><dt><span>flag_meanings :</span></dt><dd>GOOD NOT_EVALUATED SUSPECT BAD MISSING</dd><dt><span>flag_values :</span></dt><dd>[1 2 3 4 9]</dd><dt><span>ioos_category :</span></dt><dd>Quality</dd><dt><span>long_name :</span></dt><dd>QARTOD conductivity climatological test</dd><dt><span>standard_name :</span></dt><dd>climatology_test_quality_flag</dd><dt><span>valid_max :</span></dt><dd>9</dd><dt><span>valid_min :</span></dt><dd>1</dd></dl></div><div class='xr-var-data'><pre>[35881 values with dtype=float32]</pre></div></li><li class='xr-var-item'><div class='xr-var-name'><span>qartod_conductivity_flat_line_flag</span></div><div class='xr-var-dims'>(row)</div><div class='xr-var-dtype'>float32</div><div class='xr-var-preview xr-preview'>...</div><input id='attrs-e2c5491c-9efa-4b2a-a27c-4c1a68f5b9fe' class='xr-var-attrs-in' type='checkbox' ><label for='attrs-e2c5491c-9efa-4b2a-a27c-4c1a68f5b9fe' title='Show/Hide attributes'><svg class='icon xr-icon-file-text2'><use xlink:href='#icon-file-text2'></use></svg></label><input id='data-e4861af3-7427-40f6-aaa6-fa6ed43281ca' class='xr-var-data-in' type='checkbox'><label for='data-e4861af3-7427-40f6-aaa6-fa6ed43281ca' title='Show/Hide data repr'><svg class='icon xr-icon-database'><use xlink:href='#icon-database'></use></svg></label><div class='xr-var-attrs'><dl class='xr-attrs'><dt><span>_ChunkSizes :</span></dt><dd>10</dd><dt><span>comment :</span></dt><dd>QARTOD conductivity flat line test</dd><dt><span>flag_meanings :</span></dt><dd>GOOD NOT_EVALUATED SUSPECT BAD MISSING</dd><dt><span>flag_values :</span></dt><dd>[1 2 3 4 9]</dd><dt><span>ioos_category :</span></dt><dd>Quality</dd><dt><span>long_name :</span></dt><dd>QARTOD conductivity flat line test</dd><dt><span>standard_name :</span></dt><dd>flat_line_test_quality_flag</dd><dt><span>valid_max :</span></dt><dd>9</dd><dt><span>valid_min :</span></dt><dd>1</dd></dl></div><div class='xr-var-data'><pre>[35881 values with dtype=float32]</pre></div></li><li class='xr-var-item'><div class='xr-var-name'><span>qartod_conductivity_gross_range_flag</span></div><div class='xr-var-dims'>(row)</div><div class='xr-var-dtype'>float32</div><div class='xr-var-preview xr-preview'>...</div><input id='attrs-4ad3bb45-cfbc-4b71-90bf-a6d6a4b8d31e' class='xr-var-attrs-in' type='checkbox' ><label for='attrs-4ad3bb45-cfbc-4b71-90bf-a6d6a4b8d31e' title='Show/Hide attributes'><svg class='icon xr-icon-file-text2'><use xlink:href='#icon-file-text2'></use></svg></label><input id='data-6be9e1d9-0dde-493f-be6a-df71034cda9d' class='xr-var-data-in' type='checkbox'><label for='data-6be9e1d9-0dde-493f-be6a-df71034cda9d' title='Show/Hide data repr'><svg class='icon xr-icon-database'><use xlink:href='#icon-database'></use></svg></label><div class='xr-var-attrs'><dl class='xr-attrs'><dt><span>_ChunkSizes :</span></dt><dd>10</dd><dt><span>actual_range :</span></dt><dd>[1 1]</dd><dt><span>comment :</span></dt><dd>QARTOD conductivity gross range test</dd><dt><span>flag_meanings :</span></dt><dd>GOOD NOT_EVALUATED SUSPECT BAD MISSING</dd><dt><span>flag_values :</span></dt><dd>[1 2 3 4 9]</dd><dt><span>ioos_category :</span></dt><dd>Quality</dd><dt><span>long_name :</span></dt><dd>QARTOD conductivity gross range test</dd><dt><span>standard_name :</span></dt><dd>gross_range_test_quality_flag</dd><dt><span>valid_max :</span></dt><dd>9</dd><dt><span>valid_min :</span></dt><dd>1</dd></dl></div><div class='xr-var-data'><pre>[35881 values with dtype=float32]</pre></div></li><li class='xr-var-item'><div class='xr-var-name'><span>qartod_conductivity_rate_of_change_flag</span></div><div class='xr-var-dims'>(row)</div><div class='xr-var-dtype'>float32</div><div class='xr-var-preview xr-preview'>...</div><input id='attrs-f6bb27b1-813c-47e7-b718-dc3a1a77b01f' class='xr-var-attrs-in' type='checkbox' ><label for='attrs-f6bb27b1-813c-47e7-b718-dc3a1a77b01f' title='Show/Hide attributes'><svg class='icon xr-icon-file-text2'><use xlink:href='#icon-file-text2'></use></svg></label><input id='data-b57c1e33-f4d9-4956-9920-10a6408e6970' class='xr-var-data-in' type='checkbox'><label for='data-b57c1e33-f4d9-4956-9920-10a6408e6970' title='Show/Hide data repr'><svg class='icon xr-icon-database'><use xlink:href='#icon-database'></use></svg></label><div class='xr-var-attrs'><dl class='xr-attrs'><dt><span>_ChunkSizes :</span></dt><dd>10</dd><dt><span>actual_range :</span></dt><dd>[1 3]</dd><dt><span>comment :</span></dt><dd>QARTOD conductivity rate of change test</dd><dt><span>flag_meanings :</span></dt><dd>GOOD NOT_EVALUATED SUSPECT BAD MISSING</dd><dt><span>flag_values :</span></dt><dd>[1 2 3 4 9]</dd><dt><span>ioos_category :</span></dt><dd>Quality</dd><dt><span>long_name :</span></dt><dd>QARTOD conductivity rate of change test</dd><dt><span>standard_name :</span></dt><dd>rate_of_change_test_quality_flag</dd><dt><span>valid_max :</span></dt><dd>9</dd><dt><span>valid_min :</span></dt><dd>1</dd></dl></div><div class='xr-var-data'><pre>[35881 values with dtype=float32]</pre></div></li><li class='xr-var-item'><div class='xr-var-name'><span>qartod_conductivity_spike_flag</span></div><div class='xr-var-dims'>(row)</div><div class='xr-var-dtype'>float32</div><div class='xr-var-preview xr-preview'>...</div><input id='attrs-c69fa65d-527d-4f5f-8463-f0177414a6ca' class='xr-var-attrs-in' type='checkbox' ><label for='attrs-c69fa65d-527d-4f5f-8463-f0177414a6ca' title='Show/Hide attributes'><svg class='icon xr-icon-file-text2'><use xlink:href='#icon-file-text2'></use></svg></label><input id='data-1f7ebac4-aa41-4f05-9fbc-edea62dd0c2b' class='xr-var-data-in' type='checkbox'><label for='data-1f7ebac4-aa41-4f05-9fbc-edea62dd0c2b' title='Show/Hide data repr'><svg class='icon xr-icon-database'><use xlink:href='#icon-database'></use></svg></label><div class='xr-var-attrs'><dl class='xr-attrs'><dt><span>_ChunkSizes :</span></dt><dd>10</dd><dt><span>actual_range :</span></dt><dd>[1 3]</dd><dt><span>comment :</span></dt><dd>QARTOD conductivity spike test</dd><dt><span>flag_meanings :</span></dt><dd>GOOD NOT_EVALUATED SUSPECT BAD MISSING</dd><dt><span>flag_values :</span></dt><dd>[1 2 3 4 9]</dd><dt><span>ioos_category :</span></dt><dd>Quality</dd><dt><span>long_name :</span></dt><dd>QARTOD conductivity spike test</dd><dt><span>standard_name :</span></dt><dd>spike_test_quality_flag</dd><dt><span>valid_max :</span></dt><dd>9</dd><dt><span>valid_min :</span></dt><dd>1</dd></dl></div><div class='xr-var-data'><pre>[35881 values with dtype=float32]</pre></div></li><li class='xr-var-item'><div class='xr-var-name'><span>qartod_density_climatological_flag</span></div><div class='xr-var-dims'>(row)</div><div class='xr-var-dtype'>float32</div><div class='xr-var-preview xr-preview'>...</div><input id='attrs-491afd7d-9d86-47fa-8aaa-e3bba5907fa8' class='xr-var-attrs-in' type='checkbox' ><label for='attrs-491afd7d-9d86-47fa-8aaa-e3bba5907fa8' title='Show/Hide attributes'><svg class='icon xr-icon-file-text2'><use xlink:href='#icon-file-text2'></use></svg></label><input id='data-95d5466d-dafc-4076-a86a-c48226529a94' class='xr-var-data-in' type='checkbox'><label for='data-95d5466d-dafc-4076-a86a-c48226529a94' title='Show/Hide data repr'><svg class='icon xr-icon-database'><use xlink:href='#icon-database'></use></svg></label><div class='xr-var-attrs'><dl class='xr-attrs'><dt><span>_ChunkSizes :</span></dt><dd>10</dd><dt><span>actual_range :</span></dt><dd>[1 3]</dd><dt><span>comment :</span></dt><dd>QARTOD density climatology test</dd><dt><span>flag_meanings :</span></dt><dd>GOOD NOT_EVALUATED SUSPECT BAD MISSING</dd><dt><span>flag_values :</span></dt><dd>[1 2 3 4 9]</dd><dt><span>ioos_category :</span></dt><dd>Quality</dd><dt><span>long_name :</span></dt><dd>QARTOD density climatology test</dd><dt><span>standard_name :</span></dt><dd>climatology_test_quality_flag</dd><dt><span>valid_max :</span></dt><dd>9</dd><dt><span>valid_min :</span></dt><dd>1</dd></dl></div><div class='xr-var-data'><pre>[35881 values with dtype=float32]</pre></div></li><li class='xr-var-item'><div class='xr-var-name'><span>qartod_density_flat_line_flag</span></div><div class='xr-var-dims'>(row)</div><div class='xr-var-dtype'>float32</div><div class='xr-var-preview xr-preview'>...</div><input id='attrs-f54bb125-3b5e-4a3a-b755-ebbf716cb69a' class='xr-var-attrs-in' type='checkbox' ><label for='attrs-f54bb125-3b5e-4a3a-b755-ebbf716cb69a' title='Show/Hide attributes'><svg class='icon xr-icon-file-text2'><use xlink:href='#icon-file-text2'></use></svg></label><input id='data-1e8c21dd-5d7f-494e-ad61-97719534b541' class='xr-var-data-in' type='checkbox'><label for='data-1e8c21dd-5d7f-494e-ad61-97719534b541' title='Show/Hide data repr'><svg class='icon xr-icon-database'><use xlink:href='#icon-database'></use></svg></label><div class='xr-var-attrs'><dl class='xr-attrs'><dt><span>_ChunkSizes :</span></dt><dd>10</dd><dt><span>actual_range :</span></dt><dd>[1 2]</dd><dt><span>comment :</span></dt><dd>QARTOD density flat line test</dd><dt><span>flag_meanings :</span></dt><dd>GOOD NOT_EVALUATED SUSPECT BAD MISSING</dd><dt><span>flag_values :</span></dt><dd>[1 2 3 4 9]</dd><dt><span>ioos_category :</span></dt><dd>Quality</dd><dt><span>long_name :</span></dt><dd>QARTOD density flat line test</dd><dt><span>standard_name :</span></dt><dd>flat_line_test_quality_flag</dd><dt><span>valid_max :</span></dt><dd>9</dd><dt><span>valid_min :</span></dt><dd>1</dd></dl></div><div class='xr-var-data'><pre>[35881 values with dtype=float32]</pre></div></li><li class='xr-var-item'><div class='xr-var-name'><span>qartod_density_rate_of_change_flag</span></div><div class='xr-var-dims'>(row)</div><div class='xr-var-dtype'>float32</div><div class='xr-var-preview xr-preview'>...</div><input id='attrs-3cbb69d8-c0a3-4662-b15c-1f9e898971d6' class='xr-var-attrs-in' type='checkbox' ><label for='attrs-3cbb69d8-c0a3-4662-b15c-1f9e898971d6' title='Show/Hide attributes'><svg class='icon xr-icon-file-text2'><use xlink:href='#icon-file-text2'></use></svg></label><input id='data-7e344506-f663-4f19-9e1e-fed8258d73e3' class='xr-var-data-in' type='checkbox'><label for='data-7e344506-f663-4f19-9e1e-fed8258d73e3' title='Show/Hide data repr'><svg class='icon xr-icon-database'><use xlink:href='#icon-database'></use></svg></label><div class='xr-var-attrs'><dl class='xr-attrs'><dt><span>_ChunkSizes :</span></dt><dd>10</dd><dt><span>actual_range :</span></dt><dd>[1 3]</dd><dt><span>comment :</span></dt><dd>QARTOD density rate of change test</dd><dt><span>flag_meanings :</span></dt><dd>GOOD NOT_EVALUATED SUSPECT BAD MISSING</dd><dt><span>flag_values :</span></dt><dd>[1 2 3 4 9]</dd><dt><span>ioos_category :</span></dt><dd>Quality</dd><dt><span>long_name :</span></dt><dd>QARTOD density rate of change test</dd><dt><span>standard_name :</span></dt><dd>rate_of_change_test_quality_flag</dd><dt><span>valid_max :</span></dt><dd>9</dd><dt><span>valid_min :</span></dt><dd>1</dd></dl></div><div class='xr-var-data'><pre>[35881 values with dtype=float32]</pre></div></li><li class='xr-var-item'><div class='xr-var-name'><span>qartod_density_spike_flag</span></div><div class='xr-var-dims'>(row)</div><div class='xr-var-dtype'>float32</div><div class='xr-var-preview xr-preview'>...</div><input id='attrs-7c9ac61a-cd7a-4177-bdc3-8f5f3e0fa559' class='xr-var-attrs-in' type='checkbox' ><label for='attrs-7c9ac61a-cd7a-4177-bdc3-8f5f3e0fa559' title='Show/Hide attributes'><svg class='icon xr-icon-file-text2'><use xlink:href='#icon-file-text2'></use></svg></label><input id='data-031a923c-d7b5-46dc-8e82-b7b065b58204' class='xr-var-data-in' type='checkbox'><label for='data-031a923c-d7b5-46dc-8e82-b7b065b58204' title='Show/Hide data repr'><svg class='icon xr-icon-database'><use xlink:href='#icon-database'></use></svg></label><div class='xr-var-attrs'><dl class='xr-attrs'><dt><span>_ChunkSizes :</span></dt><dd>10</dd><dt><span>actual_range :</span></dt><dd>[1 4]</dd><dt><span>comment :</span></dt><dd>QARTOD density spike test</dd><dt><span>flag_meanings :</span></dt><dd>GOOD NOT_EVALUATED SUSPECT BAD MISSING</dd><dt><span>flag_values :</span></dt><dd>[1 2 3 4 9]</dd><dt><span>ioos_category :</span></dt><dd>Quality</dd><dt><span>long_name :</span></dt><dd>QARTOD density spike test</dd><dt><span>standard_name :</span></dt><dd>spike_test_quality_flag</dd><dt><span>valid_max :</span></dt><dd>9</dd><dt><span>valid_min :</span></dt><dd>1</dd></dl></div><div class='xr-var-data'><pre>[35881 values with dtype=float32]</pre></div></li><li class='xr-var-item'><div class='xr-var-name'><span>qartod_location_flag</span></div><div class='xr-var-dims'>(row)</div><div class='xr-var-dtype'>float32</div><div class='xr-var-preview xr-preview'>...</div><input id='attrs-01725c62-7179-41eb-ba22-8e39675532ef' class='xr-var-attrs-in' type='checkbox' ><label for='attrs-01725c62-7179-41eb-ba22-8e39675532ef' title='Show/Hide attributes'><svg class='icon xr-icon-file-text2'><use xlink:href='#icon-file-text2'></use></svg></label><input id='data-dc76518b-16ed-42fb-a53c-1dfed4cd008c' class='xr-var-data-in' type='checkbox'><label for='data-dc76518b-16ed-42fb-a53c-1dfed4cd008c' title='Show/Hide data repr'><svg class='icon xr-icon-database'><use xlink:href='#icon-database'></use></svg></label><div class='xr-var-attrs'><dl class='xr-attrs'><dt><span>actual_range :</span></dt><dd>[1 1]</dd><dt><span>comment :</span></dt><dd>QARTOD location test</dd><dt><span>flag_meanings :</span></dt><dd>GOOD NOT_EVALUATED SUSPECT BAD MISSING</dd><dt><span>flag_values :</span></dt><dd>[1 2 3 4 9]</dd><dt><span>ioos_category :</span></dt><dd>Quality</dd><dt><span>long_name :</span></dt><dd>QARTOD location test</dd><dt><span>valid_max :</span></dt><dd>9</dd><dt><span>valid_min :</span></dt><dd>1</dd></dl></div><div class='xr-var-data'><pre>[35881 values with dtype=float32]</pre></div></li><li class='xr-var-item'><div class='xr-var-name'><span>qartod_monotonic_pressure_flag</span></div><div class='xr-var-dims'>(row)</div><div class='xr-var-dtype'>float32</div><div class='xr-var-preview xr-preview'>...</div><input id='attrs-21f23811-ea45-4e0b-b090-657fab74eac8' class='xr-var-attrs-in' type='checkbox' ><label for='attrs-21f23811-ea45-4e0b-b090-657fab74eac8' title='Show/Hide attributes'><svg class='icon xr-icon-file-text2'><use xlink:href='#icon-file-text2'></use></svg></label><input id='data-c9cf9e96-cf89-48d4-b44b-bf8a0a5db509' class='xr-var-data-in' type='checkbox'><label for='data-c9cf9e96-cf89-48d4-b44b-bf8a0a5db509' title='Show/Hide data repr'><svg class='icon xr-icon-database'><use xlink:href='#icon-database'></use></svg></label><div class='xr-var-attrs'><dl class='xr-attrs'><dt><span>_ChunkSizes :</span></dt><dd>10</dd><dt><span>comment :</span></dt><dd>QARTOD monotonic pressure test</dd><dt><span>flag_meanings :</span></dt><dd>GOOD NOT_EVALUATED SUSPECT BAD MISSING</dd><dt><span>flag_values :</span></dt><dd>[1 2 3 4 9]</dd><dt><span>ioos_category :</span></dt><dd>Quality</dd><dt><span>long_name :</span></dt><dd>QARTOD monotonic pressure test</dd><dt><span>standard_name :</span></dt><dd>sea_water_pressure status_flag</dd><dt><span>valid_max :</span></dt><dd>9</dd><dt><span>valid_min :</span></dt><dd>1</dd></dl></div><div class='xr-var-data'><pre>[35881 values with dtype=float32]</pre></div></li><li class='xr-var-item'><div class='xr-var-name'><span>qartod_pressure_flat_line_flag</span></div><div class='xr-var-dims'>(row)</div><div class='xr-var-dtype'>float32</div><div class='xr-var-preview xr-preview'>...</div><input id='attrs-bc227c85-2748-411f-8687-53263f97ed48' class='xr-var-attrs-in' type='checkbox' ><label for='attrs-bc227c85-2748-411f-8687-53263f97ed48' title='Show/Hide attributes'><svg class='icon xr-icon-file-text2'><use xlink:href='#icon-file-text2'></use></svg></label><input id='data-39900a28-b1a9-4374-98ee-bb756690de42' class='xr-var-data-in' type='checkbox'><label for='data-39900a28-b1a9-4374-98ee-bb756690de42' title='Show/Hide data repr'><svg class='icon xr-icon-database'><use xlink:href='#icon-database'></use></svg></label><div class='xr-var-attrs'><dl class='xr-attrs'><dt><span>_ChunkSizes :</span></dt><dd>10</dd><dt><span>comment :</span></dt><dd>QARTOD pressure flat line test</dd><dt><span>flag_meanings :</span></dt><dd>GOOD NOT_EVALUATED SUSPECT BAD MISSING</dd><dt><span>flag_values :</span></dt><dd>[1 2 3 4 9]</dd><dt><span>ioos_category :</span></dt><dd>Quality</dd><dt><span>long_name :</span></dt><dd>QARTOD pressure flat line test</dd><dt><span>standard_name :</span></dt><dd>flat_line_test_quality_flag</dd><dt><span>valid_max :</span></dt><dd>9</dd><dt><span>valid_min :</span></dt><dd>1</dd></dl></div><div class='xr-var-data'><pre>[35881 values with dtype=float32]</pre></div></li><li class='xr-var-item'><div class='xr-var-name'><span>qartod_pressure_gross_range_flag</span></div><div class='xr-var-dims'>(row)</div><div class='xr-var-dtype'>float32</div><div class='xr-var-preview xr-preview'>...</div><input id='attrs-288adfb7-697d-43a6-8f69-73018d15d5e7' class='xr-var-attrs-in' type='checkbox' ><label for='attrs-288adfb7-697d-43a6-8f69-73018d15d5e7' title='Show/Hide attributes'><svg class='icon xr-icon-file-text2'><use xlink:href='#icon-file-text2'></use></svg></label><input id='data-2543d229-75d0-4513-862e-871d1e01854f' class='xr-var-data-in' type='checkbox'><label for='data-2543d229-75d0-4513-862e-871d1e01854f' title='Show/Hide data repr'><svg class='icon xr-icon-database'><use xlink:href='#icon-database'></use></svg></label><div class='xr-var-attrs'><dl class='xr-attrs'><dt><span>_ChunkSizes :</span></dt><dd>10</dd><dt><span>actual_range :</span></dt><dd>[1 4]</dd><dt><span>comment :</span></dt><dd>QARTOD pressure gross range test</dd><dt><span>flag_meanings :</span></dt><dd>GOOD NOT_EVALUATED SUSPECT BAD MISSING</dd><dt><span>flag_values :</span></dt><dd>[1 2 3 4 9]</dd><dt><span>ioos_category :</span></dt><dd>Quality</dd><dt><span>long_name :</span></dt><dd>QARTOD pressure gross range test</dd><dt><span>standard_name :</span></dt><dd>gross_range_test_quality_flag</dd><dt><span>valid_max :</span></dt><dd>9</dd><dt><span>valid_min :</span></dt><dd>1</dd></dl></div><div class='xr-var-data'><pre>[35881 values with dtype=float32]</pre></div></li><li class='xr-var-item'><div class='xr-var-name'><span>qartod_pressure_rate_of_change_flag</span></div><div class='xr-var-dims'>(row)</div><div class='xr-var-dtype'>float32</div><div class='xr-var-preview xr-preview'>...</div><input id='attrs-2a4526d4-f330-4a7d-845d-a759f852c710' class='xr-var-attrs-in' type='checkbox' ><label for='attrs-2a4526d4-f330-4a7d-845d-a759f852c710' title='Show/Hide attributes'><svg class='icon xr-icon-file-text2'><use xlink:href='#icon-file-text2'></use></svg></label><input id='data-40ef8457-e298-4c98-9451-760c78ce411c' class='xr-var-data-in' type='checkbox'><label for='data-40ef8457-e298-4c98-9451-760c78ce411c' title='Show/Hide data repr'><svg class='icon xr-icon-database'><use xlink:href='#icon-database'></use></svg></label><div class='xr-var-attrs'><dl class='xr-attrs'><dt><span>_ChunkSizes :</span></dt><dd>10</dd><dt><span>actual_range :</span></dt><dd>[1 3]</dd><dt><span>comment :</span></dt><dd>QARTOD pressure rate of change test</dd><dt><span>flag_meanings :</span></dt><dd>GOOD NOT_EVALUATED SUSPECT BAD MISSING</dd><dt><span>flag_values :</span></dt><dd>[1 2 3 4 9]</dd><dt><span>ioos_category :</span></dt><dd>Quality</dd><dt><span>long_name :</span></dt><dd>QARTOD pressure rate of change</dd><dt><span>standard_name :</span></dt><dd>rate_of_change_test_quality_flag</dd><dt><span>valid_max :</span></dt><dd>9</dd><dt><span>valid_min :</span></dt><dd>1</dd></dl></div><div class='xr-var-data'><pre>[35881 values with dtype=float32]</pre></div></li><li class='xr-var-item'><div class='xr-var-name'><span>qartod_pressure_spike_flag</span></div><div class='xr-var-dims'>(row)</div><div class='xr-var-dtype'>float32</div><div class='xr-var-preview xr-preview'>...</div><input id='attrs-18e0541a-5985-47b2-a717-e21d754d220e' class='xr-var-attrs-in' type='checkbox' ><label for='attrs-18e0541a-5985-47b2-a717-e21d754d220e' title='Show/Hide attributes'><svg class='icon xr-icon-file-text2'><use xlink:href='#icon-file-text2'></use></svg></label><input id='data-18dff771-40e0-4cba-902e-01b5d97f4c6e' class='xr-var-data-in' type='checkbox'><label for='data-18dff771-40e0-4cba-902e-01b5d97f4c6e' title='Show/Hide data repr'><svg class='icon xr-icon-database'><use xlink:href='#icon-database'></use></svg></label><div class='xr-var-attrs'><dl class='xr-attrs'><dt><span>_ChunkSizes :</span></dt><dd>10</dd><dt><span>actual_range :</span></dt><dd>[1 2]</dd><dt><span>comment :</span></dt><dd>QARTOD pressure spike test</dd><dt><span>flag_meanings :</span></dt><dd>GOOD NOT_EVALUATED SUSPECT BAD MISSING</dd><dt><span>flag_values :</span></dt><dd>[1 2 3 4 9]</dd><dt><span>ioos_category :</span></dt><dd>Quality</dd><dt><span>long_name :</span></dt><dd>QARTOD pressure spike test</dd><dt><span>standard_name :</span></dt><dd>spike_test_quality_flag</dd><dt><span>valid_max :</span></dt><dd>9</dd><dt><span>valid_min :</span></dt><dd>1</dd></dl></div><div class='xr-var-data'><pre>[35881 values with dtype=float32]</pre></div></li><li class='xr-var-item'><div class='xr-var-name'><span>qartod_salinity_climatological_flag</span></div><div class='xr-var-dims'>(row)</div><div class='xr-var-dtype'>float32</div><div class='xr-var-preview xr-preview'>...</div><input id='attrs-8614b730-d00f-4dd5-ab51-53745ca14c75' class='xr-var-attrs-in' type='checkbox' ><label for='attrs-8614b730-d00f-4dd5-ab51-53745ca14c75' title='Show/Hide attributes'><svg class='icon xr-icon-file-text2'><use xlink:href='#icon-file-text2'></use></svg></label><input id='data-9c3f0031-5255-4a54-af39-61531e6f8c64' class='xr-var-data-in' type='checkbox'><label for='data-9c3f0031-5255-4a54-af39-61531e6f8c64' title='Show/Hide data repr'><svg class='icon xr-icon-database'><use xlink:href='#icon-database'></use></svg></label><div class='xr-var-attrs'><dl class='xr-attrs'><dt><span>_ChunkSizes :</span></dt><dd>10</dd><dt><span>actual_range :</span></dt><dd>[1 3]</dd><dt><span>comment :</span></dt><dd>QARTOD salinity climatological test</dd><dt><span>flag_meanings :</span></dt><dd>GOOD NOT_EVALUATED SUSPECT BAD MISSING</dd><dt><span>flag_values :</span></dt><dd>[1 2 3 4 9]</dd><dt><span>ioos_category :</span></dt><dd>Quality</dd><dt><span>long_name :</span></dt><dd>QARTOD salinity climatological test</dd><dt><span>standard_name :</span></dt><dd>climatology_test_quality_flag</dd><dt><span>valid_max :</span></dt><dd>9</dd><dt><span>valid_min :</span></dt><dd>1</dd></dl></div><div class='xr-var-data'><pre>[35881 values with dtype=float32]</pre></div></li><li class='xr-var-item'><div class='xr-var-name'><span>qartod_salinity_flat_line_flag</span></div><div class='xr-var-dims'>(row)</div><div class='xr-var-dtype'>float32</div><div class='xr-var-preview xr-preview'>...</div><input id='attrs-df95be7f-53e0-4c2f-9f82-e64c28ed0dc6' class='xr-var-attrs-in' type='checkbox' ><label for='attrs-df95be7f-53e0-4c2f-9f82-e64c28ed0dc6' title='Show/Hide attributes'><svg class='icon xr-icon-file-text2'><use xlink:href='#icon-file-text2'></use></svg></label><input id='data-3c2b7acb-844d-4283-9738-1ff7b247bb9a' class='xr-var-data-in' type='checkbox'><label for='data-3c2b7acb-844d-4283-9738-1ff7b247bb9a' title='Show/Hide data repr'><svg class='icon xr-icon-database'><use xlink:href='#icon-database'></use></svg></label><div class='xr-var-attrs'><dl class='xr-attrs'><dt><span>_ChunkSizes :</span></dt><dd>10</dd><dt><span>actual_range :</span></dt><dd>[1 2]</dd><dt><span>comment :</span></dt><dd>QARTOD salinity flat line test</dd><dt><span>flag_meanings :</span></dt><dd>GOOD NOT_EVALUATED SUSPECT BAD MISSING</dd><dt><span>flag_values :</span></dt><dd>[1 2 3 4 9]</dd><dt><span>ioos_category :</span></dt><dd>Quality</dd><dt><span>long_name :</span></dt><dd>QARTOD salinity flat line test</dd><dt><span>standard_name :</span></dt><dd>flat_line_test_quality_flag</dd><dt><span>valid_max :</span></dt><dd>9</dd><dt><span>valid_min :</span></dt><dd>1</dd></dl></div><div class='xr-var-data'><pre>[35881 values with dtype=float32]</pre></div></li><li class='xr-var-item'><div class='xr-var-name'><span>qartod_salinity_rate_of_change_flag</span></div><div class='xr-var-dims'>(row)</div><div class='xr-var-dtype'>float32</div><div class='xr-var-preview xr-preview'>...</div><input id='attrs-7225d9a2-e5a3-429f-ad75-a0d68a172c24' class='xr-var-attrs-in' type='checkbox' ><label for='attrs-7225d9a2-e5a3-429f-ad75-a0d68a172c24' title='Show/Hide attributes'><svg class='icon xr-icon-file-text2'><use xlink:href='#icon-file-text2'></use></svg></label><input id='data-cbab1403-d71c-472a-a20d-ac648423d099' class='xr-var-data-in' type='checkbox'><label for='data-cbab1403-d71c-472a-a20d-ac648423d099' title='Show/Hide data repr'><svg class='icon xr-icon-database'><use xlink:href='#icon-database'></use></svg></label><div class='xr-var-attrs'><dl class='xr-attrs'><dt><span>_ChunkSizes :</span></dt><dd>10</dd><dt><span>actual_range :</span></dt><dd>[1 3]</dd><dt><span>comment :</span></dt><dd>QARTOD salinity rate of change test</dd><dt><span>flag_meanings :</span></dt><dd>GOOD NOT_EVALUATED SUSPECT BAD MISSING</dd><dt><span>flag_values :</span></dt><dd>[1 2 3 4 9]</dd><dt><span>ioos_category :</span></dt><dd>Quality</dd><dt><span>long_name :</span></dt><dd>QARTOD salinity rate of change test</dd><dt><span>standard_name :</span></dt><dd>rate_of_change_test_quality_flag</dd><dt><span>valid_max :</span></dt><dd>9</dd><dt><span>valid_min :</span></dt><dd>1</dd></dl></div><div class='xr-var-data'><pre>[35881 values with dtype=float32]</pre></div></li><li class='xr-var-item'><div class='xr-var-name'><span>qartod_salinity_spike_flag</span></div><div class='xr-var-dims'>(row)</div><div class='xr-var-dtype'>float32</div><div class='xr-var-preview xr-preview'>...</div><input id='attrs-ca772199-06a5-4e41-b0ce-7b79f9cb2ea3' class='xr-var-attrs-in' type='checkbox' ><label for='attrs-ca772199-06a5-4e41-b0ce-7b79f9cb2ea3' title='Show/Hide attributes'><svg class='icon xr-icon-file-text2'><use xlink:href='#icon-file-text2'></use></svg></label><input id='data-8b240096-abcc-4f1b-abcd-a81fab9dffb8' class='xr-var-data-in' type='checkbox'><label for='data-8b240096-abcc-4f1b-abcd-a81fab9dffb8' title='Show/Hide data repr'><svg class='icon xr-icon-database'><use xlink:href='#icon-database'></use></svg></label><div class='xr-var-attrs'><dl class='xr-attrs'><dt><span>_ChunkSizes :</span></dt><dd>10</dd><dt><span>actual_range :</span></dt><dd>[1 4]</dd><dt><span>comment :</span></dt><dd>QARTOD salinity spike test</dd><dt><span>flag_meanings :</span></dt><dd>GOOD NOT_EVALUATED SUSPECT BAD MISSING</dd><dt><span>flag_values :</span></dt><dd>[1 2 3 4 9]</dd><dt><span>ioos_category :</span></dt><dd>Quality</dd><dt><span>long_name :</span></dt><dd>QARTOD salinity spike test</dd><dt><span>standard_name :</span></dt><dd>spike_test_quality_flag</dd><dt><span>valid_max :</span></dt><dd>9</dd><dt><span>valid_min :</span></dt><dd>1</dd></dl></div><div class='xr-var-data'><pre>[35881 values with dtype=float32]</pre></div></li><li class='xr-var-item'><div class='xr-var-name'><span>qartod_syntax_flag</span></div><div class='xr-var-dims'>(row)</div><div class='xr-var-dtype'>float32</div><div class='xr-var-preview xr-preview'>...</div><input id='attrs-8d2b9113-c243-4394-b03e-15158fc0d88b' class='xr-var-attrs-in' type='checkbox' ><label for='attrs-8d2b9113-c243-4394-b03e-15158fc0d88b' title='Show/Hide attributes'><svg class='icon xr-icon-file-text2'><use xlink:href='#icon-file-text2'></use></svg></label><input id='data-7c5077fc-ecd0-4278-b728-5c3610bc99a9' class='xr-var-data-in' type='checkbox'><label for='data-7c5077fc-ecd0-4278-b728-5c3610bc99a9' title='Show/Hide data repr'><svg class='icon xr-icon-database'><use xlink:href='#icon-database'></use></svg></label><div class='xr-var-attrs'><dl class='xr-attrs'><dt><span>actual_range :</span></dt><dd>[1 1]</dd><dt><span>comment :</span></dt><dd>QARTOD syntax test</dd><dt><span>flag_meanings :</span></dt><dd>GOOD NOT_EVALUATED SUSPECT BAD MISSING</dd><dt><span>flag_values :</span></dt><dd>[1 2 3 4 9]</dd><dt><span>ioos_category :</span></dt><dd>Quality</dd><dt><span>long_name :</span></dt><dd>QARTOD syntax test</dd><dt><span>valid_max :</span></dt><dd>9</dd><dt><span>valid_min :</span></dt><dd>1</dd></dl></div><div class='xr-var-data'><pre>[35881 values with dtype=float32]</pre></div></li><li class='xr-var-item'><div class='xr-var-name'><span>qartod_temperature_climatological_flag</span></div><div class='xr-var-dims'>(row)</div><div class='xr-var-dtype'>float32</div><div class='xr-var-preview xr-preview'>...</div><input id='attrs-59c9a05e-9c92-4773-af4d-6e85a46aafb6' class='xr-var-attrs-in' type='checkbox' ><label for='attrs-59c9a05e-9c92-4773-af4d-6e85a46aafb6' title='Show/Hide attributes'><svg class='icon xr-icon-file-text2'><use xlink:href='#icon-file-text2'></use></svg></label><input id='data-2266862e-cebe-4fb5-a437-6b4eb9ca0b49' class='xr-var-data-in' type='checkbox'><label for='data-2266862e-cebe-4fb5-a437-6b4eb9ca0b49' title='Show/Hide data repr'><svg class='icon xr-icon-database'><use xlink:href='#icon-database'></use></svg></label><div class='xr-var-attrs'><dl class='xr-attrs'><dt><span>_ChunkSizes :</span></dt><dd>10</dd><dt><span>actual_range :</span></dt><dd>[1 1]</dd><dt><span>comment :</span></dt><dd>QARTOD temperature climatological test</dd><dt><span>flag_meanings :</span></dt><dd>GOOD NOT_EVALUATED SUSPECT BAD MISSING</dd><dt><span>flag_values :</span></dt><dd>[1 2 3 4 9]</dd><dt><span>ioos_category :</span></dt><dd>Quality</dd><dt><span>long_name :</span></dt><dd>QARTOD temperature climatological test</dd><dt><span>standard_name :</span></dt><dd>climatology_test_quality_flag</dd><dt><span>valid_max :</span></dt><dd>9</dd><dt><span>valid_min :</span></dt><dd>1</dd></dl></div><div class='xr-var-data'><pre>[35881 values with dtype=float32]</pre></div></li><li class='xr-var-item'><div class='xr-var-name'><span>qartod_temperature_flat_line_flag</span></div><div class='xr-var-dims'>(row)</div><div class='xr-var-dtype'>float32</div><div class='xr-var-preview xr-preview'>...</div><input id='attrs-b21aa22f-6141-4b55-aefd-afb069699a86' class='xr-var-attrs-in' type='checkbox' ><label for='attrs-b21aa22f-6141-4b55-aefd-afb069699a86' title='Show/Hide attributes'><svg class='icon xr-icon-file-text2'><use xlink:href='#icon-file-text2'></use></svg></label><input id='data-e8581786-222c-41a7-afa1-fe34555dcb8c' class='xr-var-data-in' type='checkbox'><label for='data-e8581786-222c-41a7-afa1-fe34555dcb8c' title='Show/Hide data repr'><svg class='icon xr-icon-database'><use xlink:href='#icon-database'></use></svg></label><div class='xr-var-attrs'><dl class='xr-attrs'><dt><span>_ChunkSizes :</span></dt><dd>10</dd><dt><span>actual_range :</span></dt><dd>[1 4]</dd><dt><span>comment :</span></dt><dd>QARTOD temperature flat line test</dd><dt><span>flag_meanings :</span></dt><dd>GOOD NOT_EVALUATED SUSPECT BAD MISSING</dd><dt><span>flag_values :</span></dt><dd>[1 2 3 4 9]</dd><dt><span>ioos_category :</span></dt><dd>Quality</dd><dt><span>long_name :</span></dt><dd>QARTOD temperature flat line test</dd><dt><span>standard_name :</span></dt><dd>flat_line_test_quality_flag</dd><dt><span>valid_max :</span></dt><dd>9</dd><dt><span>valid_min :</span></dt><dd>1</dd></dl></div><div class='xr-var-data'><pre>[35881 values with dtype=float32]</pre></div></li><li class='xr-var-item'><div class='xr-var-name'><span>qartod_temperature_gross_range_flag</span></div><div class='xr-var-dims'>(row)</div><div class='xr-var-dtype'>float32</div><div class='xr-var-preview xr-preview'>...</div><input id='attrs-e0a46c82-d4df-4657-b723-e15048c6f4fc' class='xr-var-attrs-in' type='checkbox' ><label for='attrs-e0a46c82-d4df-4657-b723-e15048c6f4fc' title='Show/Hide attributes'><svg class='icon xr-icon-file-text2'><use xlink:href='#icon-file-text2'></use></svg></label><input id='data-279b7405-6972-4e0f-99d1-88e52586c044' class='xr-var-data-in' type='checkbox'><label for='data-279b7405-6972-4e0f-99d1-88e52586c044' title='Show/Hide data repr'><svg class='icon xr-icon-database'><use xlink:href='#icon-database'></use></svg></label><div class='xr-var-attrs'><dl class='xr-attrs'><dt><span>_ChunkSizes :</span></dt><dd>10</dd><dt><span>actual_range :</span></dt><dd>[1 1]</dd><dt><span>comment :</span></dt><dd>QARTOD temperature gross range test</dd><dt><span>flag_meanings :</span></dt><dd>GOOD NOT_EVALUATED SUSPECT BAD MISSING</dd><dt><span>flag_values :</span></dt><dd>[1 2 3 4 9]</dd><dt><span>ioos_category :</span></dt><dd>Quality</dd><dt><span>long_name :</span></dt><dd>QARTOD temperature gross range test</dd><dt><span>standard_name :</span></dt><dd>gross_range_test_quality_flag</dd><dt><span>valid_max :</span></dt><dd>9</dd><dt><span>valid_min :</span></dt><dd>1</dd></dl></div><div class='xr-var-data'><pre>[35881 values with dtype=float32]</pre></div></li><li class='xr-var-item'><div class='xr-var-name'><span>qartod_temperature_rate_of_change_flag</span></div><div class='xr-var-dims'>(row)</div><div class='xr-var-dtype'>float32</div><div class='xr-var-preview xr-preview'>...</div><input id='attrs-25dc5588-453c-4a4e-8f8c-86963f6c0e81' class='xr-var-attrs-in' type='checkbox' ><label for='attrs-25dc5588-453c-4a4e-8f8c-86963f6c0e81' title='Show/Hide attributes'><svg class='icon xr-icon-file-text2'><use xlink:href='#icon-file-text2'></use></svg></label><input id='data-9cef0957-2202-49da-907e-27f531a860fe' class='xr-var-data-in' type='checkbox'><label for='data-9cef0957-2202-49da-907e-27f531a860fe' title='Show/Hide data repr'><svg class='icon xr-icon-database'><use xlink:href='#icon-database'></use></svg></label><div class='xr-var-attrs'><dl class='xr-attrs'><dt><span>_ChunkSizes :</span></dt><dd>10</dd><dt><span>actual_range :</span></dt><dd>[1 3]</dd><dt><span>comment :</span></dt><dd>QARTOD temperature rate of change test</dd><dt><span>flag_meanings :</span></dt><dd>GOOD NOT_EVALUATED SUSPECT BAD MISSING</dd><dt><span>flag_values :</span></dt><dd>[1 2 3 4 9]</dd><dt><span>ioos_category :</span></dt><dd>Quality</dd><dt><span>long_name :</span></dt><dd>QARTOD temperature rate of change test</dd><dt><span>standard_name :</span></dt><dd>rate_of_change_test_quality_flag</dd><dt><span>valid_max :</span></dt><dd>9</dd><dt><span>valid_min :</span></dt><dd>1</dd></dl></div><div class='xr-var-data'><pre>[35881 values with dtype=float32]</pre></div></li><li class='xr-var-item'><div class='xr-var-name'><span>qartod_temperature_spike_flag</span></div><div class='xr-var-dims'>(row)</div><div class='xr-var-dtype'>float32</div><div class='xr-var-preview xr-preview'>...</div><input id='attrs-3b8b426a-405e-4efd-abae-c44b9f95d9cf' class='xr-var-attrs-in' type='checkbox' ><label for='attrs-3b8b426a-405e-4efd-abae-c44b9f95d9cf' title='Show/Hide attributes'><svg class='icon xr-icon-file-text2'><use xlink:href='#icon-file-text2'></use></svg></label><input id='data-baad293a-d083-4075-9107-5d9e01b5ab6e' class='xr-var-data-in' type='checkbox'><label for='data-baad293a-d083-4075-9107-5d9e01b5ab6e' title='Show/Hide data repr'><svg class='icon xr-icon-database'><use xlink:href='#icon-database'></use></svg></label><div class='xr-var-attrs'><dl class='xr-attrs'><dt><span>_ChunkSizes :</span></dt><dd>10</dd><dt><span>actual_range :</span></dt><dd>[1 3]</dd><dt><span>comment :</span></dt><dd>QARTOD temperature spike test</dd><dt><span>flag_meanings :</span></dt><dd>GOOD NOT_EVALUATED SUSPECT BAD MISSING</dd><dt><span>flag_values :</span></dt><dd>[1 2 3 4 9]</dd><dt><span>ioos_category :</span></dt><dd>Quality</dd><dt><span>long_name :</span></dt><dd>QARTOD temperature spike test</dd><dt><span>standard_name :</span></dt><dd>spike_test_quality_flag</dd><dt><span>valid_max :</span></dt><dd>9</dd><dt><span>valid_min :</span></dt><dd>1</dd></dl></div><div class='xr-var-data'><pre>[35881 values with dtype=float32]</pre></div></li><li class='xr-var-item'><div class='xr-var-name'><span>qartod_timing_and_gap_flag</span></div><div class='xr-var-dims'>(row)</div><div class='xr-var-dtype'>float32</div><div class='xr-var-preview xr-preview'>...</div><input id='attrs-5f101a80-920b-43e4-b17d-71f2964f14ae' class='xr-var-attrs-in' type='checkbox' ><label for='attrs-5f101a80-920b-43e4-b17d-71f2964f14ae' title='Show/Hide attributes'><svg class='icon xr-icon-file-text2'><use xlink:href='#icon-file-text2'></use></svg></label><input id='data-4541cfdc-4b8b-41f1-a7cf-462eb6dedade' class='xr-var-data-in' type='checkbox'><label for='data-4541cfdc-4b8b-41f1-a7cf-462eb6dedade' title='Show/Hide data repr'><svg class='icon xr-icon-database'><use xlink:href='#icon-database'></use></svg></label><div class='xr-var-attrs'><dl class='xr-attrs'><dt><span>actual_range :</span></dt><dd>[1 1]</dd><dt><span>comment :</span></dt><dd>QARTOD timing and gap test</dd><dt><span>flag_meanings :</span></dt><dd>GOOD NOT_EVALUATED SUSPECT BAD MISSING</dd><dt><span>flag_values :</span></dt><dd>[1 2 3 4 9]</dd><dt><span>ioos_category :</span></dt><dd>Quality</dd><dt><span>long_name :</span></dt><dd>QARTOD timing and gap test</dd><dt><span>valid_max :</span></dt><dd>9</dd><dt><span>valid_min :</span></dt><dd>1</dd></dl></div><div class='xr-var-data'><pre>[35881 values with dtype=float32]</pre></div></li><li class='xr-var-item'><div class='xr-var-name'><span>salinity</span></div><div class='xr-var-dims'>(row)</div><div class='xr-var-dtype'>float32</div><div class='xr-var-preview xr-preview'>...</div><input id='attrs-7785bc65-e852-4204-a092-d95520b9466c' class='xr-var-attrs-in' type='checkbox' ><label for='attrs-7785bc65-e852-4204-a092-d95520b9466c' title='Show/Hide attributes'><svg class='icon xr-icon-file-text2'><use xlink:href='#icon-file-text2'></use></svg></label><input id='data-7f58602c-db18-4f1f-a1ac-52a322e3abcb' class='xr-var-data-in' type='checkbox'><label for='data-7f58602c-db18-4f1f-a1ac-52a322e3abcb' title='Show/Hide data repr'><svg class='icon xr-icon-database'><use xlink:href='#icon-database'></use></svg></label><div class='xr-var-attrs'><dl class='xr-attrs'><dt><span>_ChunkSizes :</span></dt><dd>10</dd><dt><span>actual_range :</span></dt><dd>[31.85396 35.59379]</dd><dt><span>ancillary_variables :</span></dt><dd>qartod_salinity_climatological_flag qartod_salinity_flat_line_flag qartod_salinity_rate_of_change_flag qartod_salinity_spike_flag salinity_qc</dd><dt><span>colorBarMaximum :</span></dt><dd>37.0</dd><dt><span>colorBarMinimum :</span></dt><dd>30.0</dd><dt><span>instrument :</span></dt><dd>instrument_ctd</dd><dt><span>ioos_category :</span></dt><dd>Salinity</dd><dt><span>long_name :</span></dt><dd>Sea Water Practical Salinity</dd><dt><span>observation_type :</span></dt><dd>calculated</dd><dt><span>platform :</span></dt><dd>platform</dd><dt><span>standard_name :</span></dt><dd>sea_water_practical_salinity</dd><dt><span>units :</span></dt><dd>1</dd><dt><span>valid_max :</span></dt><dd>40.0</dd><dt><span>valid_min :</span></dt><dd>0.0</dd></dl></div><div class='xr-var-data'><pre>[35881 values with dtype=float32]</pre></div></li><li class='xr-var-item'><div class='xr-var-name'><span>salinity_qc</span></div><div class='xr-var-dims'>(row)</div><div class='xr-var-dtype'>float32</div><div class='xr-var-preview xr-preview'>...</div><input id='attrs-80109a8b-98ab-480b-8eff-27cad7ff3e63' class='xr-var-attrs-in' type='checkbox' ><label for='attrs-80109a8b-98ab-480b-8eff-27cad7ff3e63' title='Show/Hide attributes'><svg class='icon xr-icon-file-text2'><use xlink:href='#icon-file-text2'></use></svg></label><input id='data-1fdc7a8d-c608-43be-96c3-48f84cc4b66b' class='xr-var-data-in' type='checkbox'><label for='data-1fdc7a8d-c608-43be-96c3-48f84cc4b66b' title='Show/Hide data repr'><svg class='icon xr-icon-database'><use xlink:href='#icon-database'></use></svg></label><div class='xr-var-attrs'><dl class='xr-attrs'><dt><span>_ChunkSizes :</span></dt><dd>10</dd><dt><span>flag_meanings :</span></dt><dd>no_qc_performed good_data probably_good_data bad_data_that_are_potentially_correctable bad_data value_changed not_used not_used interpolated_value missing_value</dd><dt><span>flag_values :</span></dt><dd>[0 1 2 3 4 5 6 7 8 9]</dd><dt><span>ioos_category :</span></dt><dd>Quality</dd><dt><span>long_name :</span></dt><dd>salinity Variable Quality Flag</dd><dt><span>standard_name :</span></dt><dd>sea_water_practical_salinity status_flag</dd><dt><span>valid_max :</span></dt><dd>9</dd><dt><span>valid_min :</span></dt><dd>0</dd></dl></div><div class='xr-var-data'><pre>[35881 values with dtype=float32]</pre></div></li><li class='xr-var-item'><div class='xr-var-name'><span>temperature</span></div><div class='xr-var-dims'>(row)</div><div class='xr-var-dtype'>float32</div><div class='xr-var-preview xr-preview'>...</div><input id='attrs-cc7bf3ea-c1cd-4f24-9511-1c598ef5d00e' class='xr-var-attrs-in' type='checkbox' ><label for='attrs-cc7bf3ea-c1cd-4f24-9511-1c598ef5d00e' title='Show/Hide attributes'><svg class='icon xr-icon-file-text2'><use xlink:href='#icon-file-text2'></use></svg></label><input id='data-e8baaeb0-accd-4924-a0a1-ab5cd0c10e99' class='xr-var-data-in' type='checkbox'><label for='data-e8baaeb0-accd-4924-a0a1-ab5cd0c10e99' title='Show/Hide data repr'><svg class='icon xr-icon-database'><use xlink:href='#icon-database'></use></svg></label><div class='xr-var-attrs'><dl class='xr-attrs'><dt><span>_ChunkSizes :</span></dt><dd>10</dd><dt><span>actual_range :</span></dt><dd>[ 7.2979 14.5184]</dd><dt><span>ancillary_variables :</span></dt><dd>qartod_temperature_climatological_flag qartod_temperature_flat_line_flag qartod_temperature_gross_range_flag qartod_temperature_rate_of_change_flag qartod_temperature_spike_flag temperature_qc</dd><dt><span>colorBarMaximum :</span></dt><dd>32.0</dd><dt><span>colorBarMinimum :</span></dt><dd>0.0</dd><dt><span>instrument :</span></dt><dd>instrument_ctd</dd><dt><span>ioos_category :</span></dt><dd>Temperature</dd><dt><span>long_name :</span></dt><dd>Sea Water Temperature</dd><dt><span>observation_type :</span></dt><dd>measured</dd><dt><span>platform :</span></dt><dd>platform</dd><dt><span>standard_name :</span></dt><dd>sea_water_temperature</dd><dt><span>units :</span></dt><dd>Celsius</dd><dt><span>valid_max :</span></dt><dd>40.0</dd><dt><span>valid_min :</span></dt><dd>-5.0</dd></dl></div><div class='xr-var-data'><pre>[35881 values with dtype=float32]</pre></div></li><li class='xr-var-item'><div class='xr-var-name'><span>temperature_qc</span></div><div class='xr-var-dims'>(row)</div><div class='xr-var-dtype'>float32</div><div class='xr-var-preview xr-preview'>...</div><input id='attrs-2b66d9e9-2640-45a1-9c23-7a4f4ebd4475' class='xr-var-attrs-in' type='checkbox' ><label for='attrs-2b66d9e9-2640-45a1-9c23-7a4f4ebd4475' title='Show/Hide attributes'><svg class='icon xr-icon-file-text2'><use xlink:href='#icon-file-text2'></use></svg></label><input id='data-b28ee24b-e03a-496a-837d-ef395509540f' class='xr-var-data-in' type='checkbox'><label for='data-b28ee24b-e03a-496a-837d-ef395509540f' title='Show/Hide data repr'><svg class='icon xr-icon-database'><use xlink:href='#icon-database'></use></svg></label><div class='xr-var-attrs'><dl class='xr-attrs'><dt><span>_ChunkSizes :</span></dt><dd>10</dd><dt><span>flag_meanings :</span></dt><dd>no_qc_performed good_data probably_good_data bad_data_that_are_potentially_correctable bad_data value_changed not_used not_used interpolated_value missing_value</dd><dt><span>flag_values :</span></dt><dd>[0 1 2 3 4 5 6 7 8 9]</dd><dt><span>ioos_category :</span></dt><dd>Quality</dd><dt><span>long_name :</span></dt><dd>temperature Variable Quality Flag</dd><dt><span>standard_name :</span></dt><dd>sea_water_temperature status_flag</dd><dt><span>valid_max :</span></dt><dd>9</dd><dt><span>valid_min :</span></dt><dd>0</dd></dl></div><div class='xr-var-data'><pre>[35881 values with dtype=float32]</pre></div></li><li class='xr-var-item'><div class='xr-var-name'><span>time_qc</span></div><div class='xr-var-dims'>(row)</div><div class='xr-var-dtype'>float32</div><div class='xr-var-preview xr-preview'>...</div><input id='attrs-8ff46504-1e41-4cd7-b797-33bd62abb8b5' class='xr-var-attrs-in' type='checkbox' ><label for='attrs-8ff46504-1e41-4cd7-b797-33bd62abb8b5' title='Show/Hide attributes'><svg class='icon xr-icon-file-text2'><use xlink:href='#icon-file-text2'></use></svg></label><input id='data-f7421dc1-c609-4fd1-9678-c2a105d38a75' class='xr-var-data-in' type='checkbox'><label for='data-f7421dc1-c609-4fd1-9678-c2a105d38a75' title='Show/Hide data repr'><svg class='icon xr-icon-database'><use xlink:href='#icon-database'></use></svg></label><div class='xr-var-attrs'><dl class='xr-attrs'><dt><span>flag_meanings :</span></dt><dd>no_qc_performed good_data probably_good_data bad_data_that_are_potentially_correctable bad_data value_changed not_used not_used interpolated_value missing_value</dd><dt><span>flag_values :</span></dt><dd>[0 1 2 3 4 5 6 7 8 9]</dd><dt><span>ioos_category :</span></dt><dd>Quality</dd><dt><span>long_name :</span></dt><dd>time Variable Quality Flag</dd><dt><span>standard_name :</span></dt><dd>time status_flag</dd><dt><span>valid_max :</span></dt><dd>9</dd><dt><span>valid_min :</span></dt><dd>0</dd></dl></div><div class='xr-var-data'><pre>[35881 values with dtype=float32]</pre></div></li><li class='xr-var-item'><div class='xr-var-name'><span>time_uv_qc</span></div><div class='xr-var-dims'>(row)</div><div class='xr-var-dtype'>float32</div><div class='xr-var-preview xr-preview'>...</div><input id='attrs-20b1ead1-7919-463e-8bb9-4f2912bffccd' class='xr-var-attrs-in' type='checkbox' ><label for='attrs-20b1ead1-7919-463e-8bb9-4f2912bffccd' title='Show/Hide attributes'><svg class='icon xr-icon-file-text2'><use xlink:href='#icon-file-text2'></use></svg></label><input id='data-884bd6a4-4eb2-469e-b763-38f194ba618a' class='xr-var-data-in' type='checkbox'><label for='data-884bd6a4-4eb2-469e-b763-38f194ba618a' title='Show/Hide data repr'><svg class='icon xr-icon-database'><use xlink:href='#icon-database'></use></svg></label><div class='xr-var-attrs'><dl class='xr-attrs'><dt><span>flag_meanings :</span></dt><dd>no_qc_performed good_data probably_good_data bad_data_that_are_potentially_correctable bad_data value_changed not_used not_used interpolated_value missing_value</dd><dt><span>flag_values :</span></dt><dd>[0 1 2 3 4 5 6 7 8 9]</dd><dt><span>ioos_category :</span></dt><dd>Quality</dd><dt><span>long_name :</span></dt><dd>time_uv Variable Quality Flag</dd><dt><span>standard_name :</span></dt><dd>time status_flag</dd><dt><span>valid_max :</span></dt><dd>9</dd><dt><span>valid_min :</span></dt><dd>0</dd></dl></div><div class='xr-var-data'><pre>[35881 values with dtype=float32]</pre></div></li><li class='xr-var-item'><div class='xr-var-name'><span>u</span></div><div class='xr-var-dims'>(row)</div><div class='xr-var-dtype'>float64</div><div class='xr-var-preview xr-preview'>...</div><input id='attrs-a28bb036-88ae-429b-9830-1a6262abdf54' class='xr-var-attrs-in' type='checkbox' ><label for='attrs-a28bb036-88ae-429b-9830-1a6262abdf54' title='Show/Hide attributes'><svg class='icon xr-icon-file-text2'><use xlink:href='#icon-file-text2'></use></svg></label><input id='data-ea9f7209-8474-4ae1-940f-7e1357d9664e' class='xr-var-data-in' type='checkbox'><label for='data-ea9f7209-8474-4ae1-940f-7e1357d9664e' title='Show/Hide data repr'><svg class='icon xr-icon-database'><use xlink:href='#icon-database'></use></svg></label><div class='xr-var-attrs'><dl class='xr-attrs'><dt><span>colorBarMaximum :</span></dt><dd>0.5</dd><dt><span>colorBarMinimum :</span></dt><dd>-0.5</dd><dt><span>comment :</span></dt><dd>The depth-averaged current is an estimate of the net current measured while the glider is underwater.  The value is calculated over the entire underwater segment, which may consist of 1 or more dives.</dd><dt><span>ioos_category :</span></dt><dd>Currents</dd><dt><span>long_name :</span></dt><dd>Depth-averaged Eastward Sea Water Velocity</dd><dt><span>observation_type :</span></dt><dd>calculated</dd><dt><span>platform :</span></dt><dd>platform</dd><dt><span>standard_name :</span></dt><dd>eastward_sea_water_velocity</dd><dt><span>units :</span></dt><dd>m s-1</dd><dt><span>valid_max :</span></dt><dd>10.0</dd><dt><span>valid_min :</span></dt><dd>-10.0</dd></dl></div><div class='xr-var-data'><pre>[35881 values with dtype=float64]</pre></div></li><li class='xr-var-item'><div class='xr-var-name'><span>u_qc</span></div><div class='xr-var-dims'>(row)</div><div class='xr-var-dtype'>float32</div><div class='xr-var-preview xr-preview'>...</div><input id='attrs-d2b1cbf9-62a2-4638-9990-de5b4e78698d' class='xr-var-attrs-in' type='checkbox' ><label for='attrs-d2b1cbf9-62a2-4638-9990-de5b4e78698d' title='Show/Hide attributes'><svg class='icon xr-icon-file-text2'><use xlink:href='#icon-file-text2'></use></svg></label><input id='data-0f6bb41c-ba1a-41e4-b511-b4ead9c597f4' class='xr-var-data-in' type='checkbox'><label for='data-0f6bb41c-ba1a-41e4-b511-b4ead9c597f4' title='Show/Hide data repr'><svg class='icon xr-icon-database'><use xlink:href='#icon-database'></use></svg></label><div class='xr-var-attrs'><dl class='xr-attrs'><dt><span>flag_meanings :</span></dt><dd>no_qc_performed good_data probably_good_data bad_data_that_are_potentially_correctable bad_data value_changed not_used not_used interpolated_value missing_value</dd><dt><span>flag_values :</span></dt><dd>[0 1 2 3 4 5 6 7 8 9]</dd><dt><span>ioos_category :</span></dt><dd>Quality</dd><dt><span>long_name :</span></dt><dd>u Variable Quality Flag</dd><dt><span>standard_name :</span></dt><dd>eastward_sea_water_velocity status_flag</dd><dt><span>valid_max :</span></dt><dd>9</dd><dt><span>valid_min :</span></dt><dd>0</dd></dl></div><div class='xr-var-data'><pre>[35881 values with dtype=float32]</pre></div></li><li class='xr-var-item'><div class='xr-var-name'><span>v</span></div><div class='xr-var-dims'>(row)</div><div class='xr-var-dtype'>float64</div><div class='xr-var-preview xr-preview'>...</div><input id='attrs-a0aef171-c654-4da2-af72-df5134389e41' class='xr-var-attrs-in' type='checkbox' ><label for='attrs-a0aef171-c654-4da2-af72-df5134389e41' title='Show/Hide attributes'><svg class='icon xr-icon-file-text2'><use xlink:href='#icon-file-text2'></use></svg></label><input id='data-1a42cfca-4fee-4ba1-9d2a-98de54bbdbf0' class='xr-var-data-in' type='checkbox'><label for='data-1a42cfca-4fee-4ba1-9d2a-98de54bbdbf0' title='Show/Hide data repr'><svg class='icon xr-icon-database'><use xlink:href='#icon-database'></use></svg></label><div class='xr-var-attrs'><dl class='xr-attrs'><dt><span>colorBarMaximum :</span></dt><dd>0.5</dd><dt><span>colorBarMinimum :</span></dt><dd>-0.5</dd><dt><span>comment :</span></dt><dd>The depth-averaged current is an estimate of the net current measured while the glider is underwater.  The value is calculated over the entire underwater segment, which may consist of 1 or more dives.</dd><dt><span>ioos_category :</span></dt><dd>Currents</dd><dt><span>long_name :</span></dt><dd>Depth-averaged Northward Sea Water Velocity</dd><dt><span>observation_type :</span></dt><dd>calculated</dd><dt><span>platform :</span></dt><dd>platform</dd><dt><span>standard_name :</span></dt><dd>northward_sea_water_velocity</dd><dt><span>units :</span></dt><dd>m s-1</dd><dt><span>valid_max :</span></dt><dd>10.0</dd><dt><span>valid_min :</span></dt><dd>-10.0</dd></dl></div><div class='xr-var-data'><pre>[35881 values with dtype=float64]</pre></div></li><li class='xr-var-item'><div class='xr-var-name'><span>v_qc</span></div><div class='xr-var-dims'>(row)</div><div class='xr-var-dtype'>float32</div><div class='xr-var-preview xr-preview'>...</div><input id='attrs-027c9741-d219-4bdf-a781-fd3eb48890f0' class='xr-var-attrs-in' type='checkbox' ><label for='attrs-027c9741-d219-4bdf-a781-fd3eb48890f0' title='Show/Hide attributes'><svg class='icon xr-icon-file-text2'><use xlink:href='#icon-file-text2'></use></svg></label><input id='data-74af3e32-7b3e-4b63-bb57-bbd9baf453ad' class='xr-var-data-in' type='checkbox'><label for='data-74af3e32-7b3e-4b63-bb57-bbd9baf453ad' title='Show/Hide data repr'><svg class='icon xr-icon-database'><use xlink:href='#icon-database'></use></svg></label><div class='xr-var-attrs'><dl class='xr-attrs'><dt><span>flag_meanings :</span></dt><dd>no_qc_performed good_data probably_good_data bad_data_that_are_potentially_correctable bad_data value_changed not_used not_used interpolated_value missing_value</dd><dt><span>flag_values :</span></dt><dd>[0 1 2 3 4 5 6 7 8 9]</dd><dt><span>ioos_category :</span></dt><dd>Quality</dd><dt><span>long_name :</span></dt><dd>v Variable Quality Flag</dd><dt><span>standard_name :</span></dt><dd>northward_sea_water_velocity status_flag</dd><dt><span>valid_max :</span></dt><dd>9</dd><dt><span>valid_min :</span></dt><dd>0</dd></dl></div><div class='xr-var-data'><pre>[35881 values with dtype=float32]</pre></div></li></ul></div></li><li class='xr-section-item'><input id='section-92a3c38f-5d99-4da1-839e-2925ce6a93f8' class='xr-section-summary-in' type='checkbox' disabled ><label for='section-92a3c38f-5d99-4da1-839e-2925ce6a93f8' class='xr-section-summary'  title='Expand/collapse section'>Indexes: <span>(0)</span></label><div class='xr-section-inline-details'></div><div class='xr-section-details'><ul class='xr-var-list'></ul></div></li><li class='xr-section-item'><input id='section-12a9bbdd-56d7-4df1-be00-8a72d338ec32' class='xr-section-summary-in' type='checkbox'  ><label for='section-12a9bbdd-56d7-4df1-be00-8a72d338ec32' class='xr-section-summary' >Attributes: <span>(56)</span></label><div class='xr-section-inline-details'></div><div class='xr-section-details'><dl class='xr-attrs'><dt><span>acknowledgment :</span></dt><dd>This deployment supported by Heising-Simons Foundation.</dd><dt><span>cdm_data_type :</span></dt><dd>TrajectoryProfile</dd><dt><span>cdm_profile_variables :</span></dt><dd>time_uv,lat_uv,lon_uv,u,v,profile_id,time,latitude,longitude</dd><dt><span>cdm_trajectory_variables :</span></dt><dd>trajectory,wmo_id</dd><dt><span>contributor_name :</span></dt><dd>Donglai Gong, Jeanna Hudson, Lydia Bienlien, Haixang Wang, Sean Fate, PG Ross, John Kerfoot, Laura Nazzaro</dd><dt><span>contributor_role :</span></dt><dd>Principal Investigator, Glider Pilot, Glider Preparation, Data Processor, Glider Deployment and Recovery, Glider Deployment and Recovery, Data Manager, Data Manager</dd><dt><span>Conventions :</span></dt><dd>Unidata Dataset Discovery v1.0, COARDS, CF-1.6</dd><dt><span>creator_email :</span></dt><dd>nazzaro@marine.rutgers.edu</dd><dt><span>creator_name :</span></dt><dd>Laura Nazzaro</dd><dt><span>creator_url :</span></dt><dd>http://rucool.marine.rutgers.edu</dd><dt><span>date_created :</span></dt><dd>2018-05-13T16:46:43Z</dd><dt><span>date_issued :</span></dt><dd>2018-05-13T16:46:43Z</dd><dt><span>Easternmost_Easting :</span></dt><dd>-74.44578830771906</dd><dt><span>featureType :</span></dt><dd>TrajectoryProfile</dd><dt><span>format_version :</span></dt><dd>/tmp/IOOS_Glider_NetCDF_v2.0-qartod.nc</dd><dt><span>geospatial_lat_max :</span></dt><dd>37.539597728582244</dd><dt><span>geospatial_lat_min :</span></dt><dd>37.40443598169462</dd><dt><span>geospatial_lat_units :</span></dt><dd>degrees_north</dd><dt><span>geospatial_lon_max :</span></dt><dd>-74.44578830771906</dd><dt><span>geospatial_lon_min :</span></dt><dd>-75.07957909499224</dd><dt><span>geospatial_lon_units :</span></dt><dd>degrees_east</dd><dt><span>geospatial_vertical_max :</span></dt><dd>351.18</dd><dt><span>geospatial_vertical_min :</span></dt><dd>1.04</dd><dt><span>geospatial_vertical_positive :</span></dt><dd>down</dd><dt><span>geospatial_vertical_units :</span></dt><dd>m</dd><dt><span>gts_ingest :</span></dt><dd>true</dd><dt><span>history :</span></dt><dd>2018-05-13T16:46:43Z /home/kerfoot/slocum/matlab/spt/export/nc/IOOS/DAC/writeQartodGliderFlatNc.m%standard names for qartod flags have changed on 2022-07-05\n",
       "2023-03-16T18:16:22Z (local files)\n",
       "2023-03-16T18:16:22Z https://gliders.ioos.us/erddap/tabledap/amelia-20180501T0000.nc</dd><dt><span>id :</span></dt><dd>amelia-20180513T1950</dd><dt><span>infoUrl :</span></dt><dd>https://gliders.ioos.us/erddap/</dd><dt><span>institution :</span></dt><dd>Virginia Institute of Marine Science - William &amp; Mary</dd><dt><span>ioos_dac_checksum :</span></dt><dd>c3150831158a8ce077b817c2f31ad498</dd><dt><span>ioos_dac_completed :</span></dt><dd>True</dd><dt><span>ioos_regional_association :</span></dt><dd>MARACOOS</dd><dt><span>keywords :</span></dt><dd>AUVS &gt; Autonomous Underwater Vehicles, Earth Science &gt; Oceans &gt; Ocean Pressure &gt; Water Pressure, Earth Science &gt; Oceans &gt; Ocean Temperature &gt; Water Temperature, Earth Science &gt; Oceans &gt; Salinity/Density &gt; Conductivity, Earth Science &gt; Oceans &gt; Salinity/Density &gt; Density, Earth Science &gt; Oceans &gt; Salinity/Density &gt; Salinity, glider, In Situ Ocean-based platforms &gt; Seaglider, Slocum, Spray, trajectory, underwater glider, water, wmo</dd><dt><span>keywords_vocabulary :</span></dt><dd>GCMD Science Keywords</dd><dt><span>license :</span></dt><dd>This data may be redistributed and used without restriction.  Data provided as is with no expressed or implied assurance of quality assurance or quality control</dd><dt><span>Metadata_Conventions :</span></dt><dd>Unidata Dataset Discovery v1.0, COARDS, CF-1.6</dd><dt><span>naming_authority :</span></dt><dd>edu.rutgers.marine</dd><dt><span>Northernmost_Northing :</span></dt><dd>37.539597728582244</dd><dt><span>platform_type :</span></dt><dd>Slocum Glider</dd><dt><span>project :</span></dt><dd>Test Deployment for Northwest Passage Project in MARACOOS Domain</dd><dt><span>publisher_email :</span></dt><dd>kerfoot@marine.rutgers.edu</dd><dt><span>publisher_name :</span></dt><dd>John Kerfoot</dd><dt><span>publisher_url :</span></dt><dd>http://rucool.marine.rutgers.edu</dd><dt><span>references :</span></dt><dd>https://ioos.noaa.gov/wp-content/uploads/2015/10/Manual-for-QC-of-Glider-Data_05_09_16.pdf</dd><dt><span>sea_name :</span></dt><dd>Mid-Atlantic Bight</dd><dt><span>source :</span></dt><dd>Observational data from a profiling glider</dd><dt><span>sourceUrl :</span></dt><dd>(local files)</dd><dt><span>Southernmost_Northing :</span></dt><dd>37.40443598169462</dd><dt><span>standard_name_vocabulary :</span></dt><dd>CF-v25</dd><dt><span>subsetVariables :</span></dt><dd>wmo_id,trajectory,profile_id,time,latitude,longitude</dd><dt><span>summary :</span></dt><dd>This is a test mission for the Northwest Passage Project. This glider will be deployed in the southern Mid-Atlantic Bight. The goal of the mission is to conduct CTD and DO Optode cross-calibration with a recently calibrated MARACOOS glider Sylvia in the MARACOOS domain. It will provide additional hydrographic data in the Mid-Atlantic region even though its CTD has not been recently calibrated. The glider is scheduled to be deployed on Tuesday, May 1, 2018 and recovered on Monday May 14, 2018. The glider will be deployed near the 35 m isobath at mid-shelf off Wachepreague VA and fly offshore toward Washington Canyon. It will conduct virtual mooring profiling flight at the head of Washington Canyon down to 350 m for about a week, then head back inshore toward Wachepreague VA for recovery.</dd><dt><span>time_coverage_end :</span></dt><dd>2018-05-14T12:29:12Z</dd><dt><span>time_coverage_start :</span></dt><dd>2018-05-01T14:58:48Z</dd><dt><span>title :</span></dt><dd>amelia-20180501T0000</dd><dt><span>Westernmost_Easting :</span></dt><dd>-75.07957909499224</dd></dl></div></li></ul></div></div>"
      ],
      "text/plain": [
       "<xarray.Dataset>\n",
       "Dimensions:                                  (row: 35881)\n",
       "Coordinates:\n",
       "    lat_uv                                   (row) float64 ...\n",
       "    lon_uv                                   (row) float64 ...\n",
       "    time_uv                                  (row) datetime64[ns] ...\n",
       "Dimensions without coordinates: row\n",
       "Data variables: (12/64)\n",
       "    trajectory                               (row) object ...\n",
       "    wmo_id                                   (row) object ...\n",
       "    profile_id                               (row) float64 ...\n",
       "    time                                     (row) datetime64[ns] ...\n",
       "    latitude                                 (row) float64 ...\n",
       "    longitude                                (row) float64 ...\n",
       "    ...                                       ...\n",
       "    time_qc                                  (row) float32 ...\n",
       "    time_uv_qc                               (row) float32 ...\n",
       "    u                                        (row) float64 ...\n",
       "    u_qc                                     (row) float32 ...\n",
       "    v                                        (row) float64 ...\n",
       "    v_qc                                     (row) float32 ...\n",
       "Attributes: (12/56)\n",
       "    acknowledgment:                This deployment supported by Heising-Simon...\n",
       "    cdm_data_type:                 TrajectoryProfile\n",
       "    cdm_profile_variables:         time_uv,lat_uv,lon_uv,u,v,profile_id,time,...\n",
       "    cdm_trajectory_variables:      trajectory,wmo_id\n",
       "    contributor_name:              Donglai Gong, Jeanna Hudson, Lydia Bienlie...\n",
       "    contributor_role:              Principal Investigator, Glider Pilot, Glid...\n",
       "    ...                            ...\n",
       "    subsetVariables:               wmo_id,trajectory,profile_id,time,latitude...\n",
       "    summary:                       This is a test mission for the Northwest P...\n",
       "    time_coverage_end:             2018-05-14T12:29:12Z\n",
       "    time_coverage_start:           2018-05-01T14:58:48Z\n",
       "    title:                         amelia-20180501T0000\n",
       "    Westernmost_Easting:           -75.07957909499224"
      ]
     },
     "execution_count": 68,
     "metadata": {},
     "output_type": "execute_result"
    }
   ],
   "source": [
    "ds"
   ]
  },
  {
   "cell_type": "code",
   "execution_count": 126,
   "id": "32386adb",
   "metadata": {},
   "outputs": [
    {
     "data": {
      "application/vnd.jupyter.widget-view+json": {
       "model_id": "ab8a2d6b45014c8381fed58ad18f60bf",
       "version_major": 2,
       "version_minor": 0
      },
      "text/plain": [
       "Dropdown(description='Time variable:', options=('trajectory', 'wmo_id', 'profile_id', 'time', 'latitude', 'lon…"
      ]
     },
     "metadata": {},
     "output_type": "display_data"
    }
   ],
   "source": [
    "import ipywidgets as widgets\n",
    "\n",
    "time_variable_selection = widgets.Dropdown(\n",
    "    #options=['1', '2', '3'],\n",
    "    options=[k for k in ds.variables.keys()],\n",
    "    #value='2',\n",
    "    description='Time variable:',\n",
    "    disabled=False,\n",
    ")\n",
    "#time_variable = ds.variables[time_selection.value]\n",
    "display(time_variable_selection)"
   ]
  },
  {
   "cell_type": "code",
   "execution_count": 127,
   "id": "74f09faf",
   "metadata": {},
   "outputs": [
    {
     "data": {
      "application/vnd.jupyter.widget-view+json": {
       "model_id": "21aa77b3f3a149a9b0d91f4748bc057e",
       "version_major": 2,
       "version_minor": 0
      },
      "text/plain": [
       "SelectMultiple(description='Input variable(s):', options=('trajectory', 'wmo_id', 'profile_id', 'time', 'latit…"
      ]
     },
     "metadata": {},
     "output_type": "display_data"
    }
   ],
   "source": [
    "input_variable_selection = widgets.SelectMultiple(\n",
    "    #options=['1', '2', '3'],\n",
    "    options=[k for k in ds.variables.keys()],\n",
    "    #value='2',\n",
    "    description='Input variable(s):',\n",
    "    disabled=False,\n",
    ")\n",
    "display(input_variable_selection)"
   ]
  },
  {
   "cell_type": "code",
   "execution_count": 77,
   "id": "804a5ef5",
   "metadata": {},
   "outputs": [
    {
     "data": {
      "application/vnd.jupyter.widget-view+json": {
       "model_id": "eaca4cab8aaf4410981d11f00a475ce3",
       "version_major": 2,
       "version_minor": 0
      },
      "text/plain": [
       "Dropdown(description='x/lon variable:', options=('trajectory', 'wmo_id', 'profile_id', 'time', 'latitude', 'lo…"
      ]
     },
     "metadata": {},
     "output_type": "display_data"
    }
   ],
   "source": [
    "x_variable_selection = widgets.Dropdown(\n",
    "    options=[k for k in ds.variables.keys()],\n",
    "    description='x/lon variable:',\n",
    "    disabled=False,\n",
    ")\n",
    "display(x_variable_selection)"
   ]
  },
  {
   "cell_type": "code",
   "execution_count": 78,
   "id": "63699467",
   "metadata": {},
   "outputs": [
    {
     "data": {
      "application/vnd.jupyter.widget-view+json": {
       "model_id": "cd7d472102414c5dae056e314524a823",
       "version_major": 2,
       "version_minor": 0
      },
      "text/plain": [
       "Dropdown(description='y/lat variable:', options=('trajectory', 'wmo_id', 'profile_id', 'time', 'latitude', 'lo…"
      ]
     },
     "metadata": {},
     "output_type": "display_data"
    }
   ],
   "source": [
    "y_variable_selection = widgets.Dropdown(\n",
    "    options=[k for k in ds.variables.keys()],\n",
    "    description='y/lat variable:',\n",
    "    disabled=False,\n",
    ")\n",
    "display(y_variable_selection)"
   ]
  },
  {
   "cell_type": "code",
   "execution_count": 37,
   "id": "5a388e18",
   "metadata": {},
   "outputs": [
    {
     "data": {
      "application/vnd.jupyter.widget-view+json": {
       "model_id": "b186f1ed0ad14401a503b71e08774d63",
       "version_major": 2,
       "version_minor": 0
      },
      "text/plain": [
       "Dropdown(description='Depth/z variable:', options=(None, 'trajectory', 'wmo_id', 'profile_id', 'time', 'latitu…"
      ]
     },
     "metadata": {},
     "output_type": "display_data"
    }
   ],
   "source": [
    "depth_variable_selection = widgets.Dropdown(\n",
    "    options=[None] + [k for k in ds.variables.keys()],\n",
    "    description='Depth/z variable:',\n",
    "    disabled=False,\n",
    ")\n",
    "display(depth_variable_selection)"
   ]
  },
  {
   "cell_type": "code",
   "execution_count": 129,
   "id": "b26712f8",
   "metadata": {},
   "outputs": [],
   "source": [
    "time_variable = ds.variables[time_selection.value]\n",
    "input_variable_dict = {var_name: ds.variables[var_name] for var_name in input_variable_selection.value}\n",
    "x_variable = ds.variables[x_variable_selection.value]\n",
    "y_variable = ds.variables[y_variable_selection.value]\n",
    "depth_variable = None if depth_variable_selection.value is None else ds.variables[depth_variable_selection.value]"
   ]
  },
  {
   "cell_type": "code",
   "execution_count": 130,
   "id": "9249d50f",
   "metadata": {},
   "outputs": [],
   "source": [
    "from ioos_qc import qartod"
   ]
  },
  {
   "cell_type": "code",
   "execution_count": 132,
   "id": "2d0f211c",
   "metadata": {},
   "outputs": [],
   "source": [
    "import inflection\n",
    "import warnings\n",
    "import numbers\n",
    "\n",
    "\n",
    "def widget_factory_type(variable_name, function):\n",
    "    widget_controls = []\n",
    "    annotations = function.__annotations__\n",
    "    # TODO: use proper map widget for selecting location test watch bounds\n",
    "    #bbox_type = typing.Tuple[numbers.Real, numbers.Real, numbers.Real, numbers.Real]\n",
    "    for annotation_name, type_signature in annotations.items():\n",
    "        # data variables should be skipped as they aren't tunable for QARTOD test parameters\n",
    "        if annotation_name in {\"inp\", \"tinp\", \"lon\", \"lat\", \"zinp\", \"method\", \"return\", \"type_signature\", \"check_type\"}:\n",
    "            continue\n",
    "            \n",
    "        match type_signature:\n",
    "            case t if t is numbers.Real or t is float:\n",
    "                widget_controls.append(widgets.FloatSlider(value=0, min=-500, max=500,\n",
    "                                                           description=annotation_name,\n",
    "                                                           name=f\"{variable_name} {function} {annotation_name}\"))\n",
    "            case t if t is int:\n",
    "                widget_controls.append(widgets.IntSlider(value=0, min=0, max=100,\n",
    "                                                    description=annotation_name,\n",
    "                                                    name=f\"{variable_name} {function} {annotation_name}\"))\n",
    "            case t if t is typing.Tuple[numbers.Real, numbers.Real]:\n",
    "                widget_controls.append(widgets.FloatRangeSlider(value=[-100, 100], min=-500, max=500,\n",
    "                                                                description=annotation_name,\n",
    "                                                                name=f\"{variable_name} {function} {annotation_name}\"))             \n",
    "            # four numbers could only be geospatial bounding box for location test\n",
    "            # TODO: display with interact, etc\n",
    "            case t if t is typing.Tuple[numbers.Real, numbers.Real, numbers.Real, numbers.Real]:\n",
    "                widget_controls.append(widgets.VBox([widgets.FloatRangeSlider(value=[0, 1], min=-180, max=180,\n",
    "                                                           description=\"Longitude Bounds\"),\n",
    "                                  widgets.FloatRangeSlider(value=[0, 1], min=-90, max=90,\n",
    "                                                           description=\"Latitude Bounds\")],\n",
    "                                                    name=f\"{variable_name} {function} {annotation_name}\"))\n",
    "            case _:\n",
    "                warnings.warn(f\"Parameter {annotation_name} with type signature {type_signature} unmatched, skipping...\")\n",
    "                continue\n",
    "    checkbox = widgets.Checkbox(False, description=\"Disabled\", indent=False)\n",
    "    for control in widget_controls:\n",
    "        widgets.link((checkbox, 'value'), (control, 'disabled'))\n",
    "    return widgets.VBox([checkbox, widgets.VBox(widget_controls)])"
   ]
  },
  {
   "cell_type": "code",
   "execution_count": 133,
   "id": "d1a96798",
   "metadata": {},
   "outputs": [],
   "source": [
    "def show_controls(variable_name, function): \n",
    "    print(inflection.titleize(function.__name__))\n",
    "    display(widget_factory_type(variable_name, function))"
   ]
  },
  {
   "cell_type": "code",
   "execution_count": 134,
   "id": "a1a5399f",
   "metadata": {
    "scrolled": true
   },
   "outputs": [
    {
     "name": "stdout",
     "output_type": "stream",
     "text": [
      "temperature\n",
      "Attenuated Signal Test\n",
      "Attenuated Signal Test\n"
     ]
    },
    {
     "data": {
      "application/vnd.jupyter.widget-view+json": {
       "model_id": "5b0c109122de48899f418e197781a362",
       "version_major": 2,
       "version_minor": 0
      },
      "text/plain": [
       "VBox(children=(Checkbox(value=False, description='Disabled', indent=False), VBox(children=(FloatSlider(value=0…"
      ]
     },
     "metadata": {},
     "output_type": "display_data"
    },
    {
     "name": "stdout",
     "output_type": "stream",
     "text": [
      "Density Inversion Test\n",
      "Density Inversion Test\n"
     ]
    },
    {
     "data": {
      "application/vnd.jupyter.widget-view+json": {
       "model_id": "025e9ff855354770bd1c47b7ed564ef6",
       "version_major": 2,
       "version_minor": 0
      },
      "text/plain": [
       "VBox(children=(Checkbox(value=False, description='Disabled', indent=False), VBox(children=(FloatSlider(value=0…"
      ]
     },
     "metadata": {},
     "output_type": "display_data"
    },
    {
     "name": "stdout",
     "output_type": "stream",
     "text": [
      "Flat Line Test\n",
      "Flat Line Test\n"
     ]
    },
    {
     "data": {
      "application/vnd.jupyter.widget-view+json": {
       "model_id": "2a8cbcb02fbe41c39cf8b2c3848fb8d0",
       "version_major": 2,
       "version_minor": 0
      },
      "text/plain": [
       "VBox(children=(Checkbox(value=False, description='Disabled', indent=False), VBox(children=(IntSlider(value=0, …"
      ]
     },
     "metadata": {},
     "output_type": "display_data"
    },
    {
     "name": "stdout",
     "output_type": "stream",
     "text": [
      "Gross Range Test\n",
      "Gross Range Test\n"
     ]
    },
    {
     "data": {
      "application/vnd.jupyter.widget-view+json": {
       "model_id": "374b4debdf2448d18dc3da922ff914dd",
       "version_major": 2,
       "version_minor": 0
      },
      "text/plain": [
       "VBox(children=(Checkbox(value=False, description='Disabled', indent=False), VBox(children=(FloatRangeSlider(va…"
      ]
     },
     "metadata": {},
     "output_type": "display_data"
    },
    {
     "name": "stdout",
     "output_type": "stream",
     "text": [
      "Rate Of Change Test\n",
      "Rate Of Change Test\n"
     ]
    },
    {
     "data": {
      "application/vnd.jupyter.widget-view+json": {
       "model_id": "8f0564f1dbcb4e0781a2233935e86456",
       "version_major": 2,
       "version_minor": 0
      },
      "text/plain": [
       "VBox(children=(Checkbox(value=False, description='Disabled', indent=False), VBox(children=(FloatSlider(value=0…"
      ]
     },
     "metadata": {},
     "output_type": "display_data"
    },
    {
     "name": "stdout",
     "output_type": "stream",
     "text": [
      "Spike Test\n",
      "Spike Test\n"
     ]
    },
    {
     "data": {
      "application/vnd.jupyter.widget-view+json": {
       "model_id": "70320c27ba724623962f91b055f5f13d",
       "version_major": 2,
       "version_minor": 0
      },
      "text/plain": [
       "VBox(children=(Checkbox(value=False, description='Disabled', indent=False), VBox(children=(FloatSlider(value=0…"
      ]
     },
     "metadata": {},
     "output_type": "display_data"
    },
    {
     "data": {
      "application/vnd.jupyter.widget-view+json": {
       "model_id": "a35d74cf32154958bc883dfa53aa505d",
       "version_major": 2,
       "version_minor": 0
      },
      "text/plain": [
       "Checkbox(value=True, description='Run CF Compliance Check', indent=False)"
      ]
     },
     "metadata": {},
     "output_type": "display_data"
    },
    {
     "data": {
      "application/vnd.jupyter.widget-view+json": {
       "model_id": "f9cd2c45ba6b4e6f85a5afe717f4d4aa",
       "version_major": 2,
       "version_minor": 0
      },
      "text/plain": [
       "Button(description='Submit', style=ButtonStyle())"
      ]
     },
     "metadata": {},
     "output_type": "display_data"
    }
   ],
   "source": [
    "import inspect\n",
    "from ioos_qc import qartod\n",
    "\n",
    "test_dict = {}\n",
    "qartod_tests = inspect.getmembers(qartod, lambda o: inspect.isfunction(o) and o.__name__.endswith(\"_test\"))\n",
    "for input_variable_name, input_variable in input_variable_dict.items():\n",
    "    test_dict[input_variable_name] = {}\n",
    "    print(input_variable_name)\n",
    "    for test_name, qartod_test in qartod_tests:\n",
    "        # don't know how to represent climatology widgets\n",
    "        if test_name in {\"climatology_test\", \"location_test\"}:\n",
    "            continue\n",
    "        #print(qartod_test)\n",
    "        test_dict[input_variable_name][test_name] = widget_factory_type(input_variable_name, qartod_test)\n",
    "        print(inflection.titleize(qartod_test.__name__))\n",
    "        show_controls(input_variable_name, qartod_test)\n",
    "display(widgets.Checkbox(True, description=\"Run CF Compliance Check\", indent=False))"
   ]
  },
  {
   "cell_type": "code",
   "execution_count": 135,
   "id": "421cfb75",
   "metadata": {},
   "outputs": [],
   "source": [
    "def generate_qc_json_config(widget_conf):\n",
    "    qc_conf_dict = {}\n",
    "    for variable_name in widget_conf:\n",
    "        qc_conf_dict[variable_name] = {}\n",
    "        qartod_conf = qc_conf_dict[variable_name][\"qartod\"] = {}\n",
    "        for test_name in widget_conf[variable_name]:\n",
    "            # if test is disabled, skip\n",
    "            if test_dict[variable_name][test_name].children[0].value:\n",
    "                continue\n",
    "            qartod_conf[test_name] = {}\n",
    "            test_widgets = test_dict[variable_name][test_name].children[1].children\n",
    "            for test_widget in test_widgets:\n",
    "                qartod_conf[test_name][test_widget.description] = test_widget.value\n",
    "    return qc_conf_dict\n",
    "\n",
    "qc_config = generate_qc_json_config(test_dict)\n",
    "            "
   ]
  },
  {
   "cell_type": "code",
   "execution_count": 162,
   "id": "24921504",
   "metadata": {},
   "outputs": [
    {
     "name": "stderr",
     "output_type": "stream",
     "text": [
      "time=\"2023-03-17T18:52:58.097Z\" level=debug msg=\"CLI version\" version=\"{v3.4.3 2022-10-31T09:13:13Z eddb1b78407adc72c08b4ed6be8f52f2a1f1316a v3.4.3 clean go1.18.7 gc linux/amd64}\"\n",
      "time=\"2023-03-17T18:52:58.097Z\" level=debug msg=\"Client options\" opts=\"(argoServerOpts=(url=,path=,secure=true,insecureSkipVerify=false,http=false),instanceID=)\"\n",
      "I0317 18:52:58.097920    2790 loader.go:372] Config loaded from file:  /home/badams/.kube/config\n",
      "I0317 18:52:58.098912    2790 loader.go:372] Config loaded from file:  /home/badams/.kube/config\n",
      "time=\"2023-03-17T18:52:58.104Z\" level=debug msg=\"Getting the template by name\"\n",
      "time=\"2023-03-17T18:52:58.104Z\" level=debug msg=\"Resolving the template\" base=\"*v1alpha1.Workflow (namespace=default,name=)\" depth=0 tmpl=\"*v1alpha1.WorkflowStep (curl-file-and-process)\"\n",
      "time=\"2023-03-17T18:52:58.104Z\" level=debug msg=\"Getting the template\" base=\"*v1alpha1.Workflow (namespace=default,name=)\" depth=0 tmpl=\"*v1alpha1.WorkflowStep (curl-file-and-process)\"\n",
      "time=\"2023-03-17T18:52:58.104Z\" level=debug msg=\"Getting the template by name\" base=\"*v1alpha1.Workflow (namespace=default,name=)\" depth=0 tmpl=\"*v1alpha1.WorkflowStep (curl-file-and-process)\"\n",
      "time=\"2023-03-17T18:52:58.104Z\" level=debug msg=\"Getting the template by name\"\n",
      "time=\"2023-03-17T18:52:58.104Z\" level=debug msg=\"Resolving the template\" base=\"*v1alpha1.Workflow (namespace=default,name=)\" depth=0 tmpl=\"*v1alpha1.WorkflowStep (curl-file)\"\n",
      "time=\"2023-03-17T18:52:58.104Z\" level=debug msg=\"Getting the template\" base=\"*v1alpha1.Workflow (namespace=default,name=)\" depth=0 tmpl=\"*v1alpha1.WorkflowStep (curl-file)\"\n",
      "time=\"2023-03-17T18:52:58.104Z\" level=debug msg=\"Getting the template by name\" base=\"*v1alpha1.Workflow (namespace=default,name=)\" depth=0 tmpl=\"*v1alpha1.WorkflowStep (curl-file)\"\n",
      "time=\"2023-03-17T18:52:58.104Z\" level=debug msg=\"Getting the template by name\" base=\"*v1alpha1.Workflow (namespace=default,name=)\" depth=0 tmpl=\"*v1alpha1.WorkflowStep (curl-file)\"\n",
      "time=\"2023-03-17T18:52:58.104Z\" level=debug msg=\"Resolving the template\" base=\"*v1alpha1.Workflow (namespace=default,name=)\" depth=0 tmpl=\"*v1alpha1.WorkflowStep (curl-file)\"\n",
      "time=\"2023-03-17T18:52:58.104Z\" level=debug msg=\"Getting the template\" base=\"*v1alpha1.Workflow (namespace=default,name=)\" depth=0 tmpl=\"*v1alpha1.WorkflowStep (curl-file)\"\n",
      "time=\"2023-03-17T18:52:58.104Z\" level=debug msg=\"Getting the template by name\" base=\"*v1alpha1.Workflow (namespace=default,name=)\" depth=0 tmpl=\"*v1alpha1.WorkflowStep (curl-file)\"\n",
      "time=\"2023-03-17T18:52:58.104Z\" level=debug msg=\"Getting the template by name\" base=\"*v1alpha1.Workflow (namespace=default,name=)\" depth=0 tmpl=\"*v1alpha1.WorkflowStep (curl-file)\"\n",
      "time=\"2023-03-17T18:52:58.104Z\" level=debug msg=\"Resolving the template\" base=\"*v1alpha1.Workflow (namespace=default,name=)\" depth=0 tmpl=\"*v1alpha1.WorkflowStep (compliance-check)\"\n",
      "time=\"2023-03-17T18:52:58.104Z\" level=debug msg=\"Getting the template\" base=\"*v1alpha1.Workflow (namespace=default,name=)\" depth=0 tmpl=\"*v1alpha1.WorkflowStep (compliance-check)\"\n",
      "time=\"2023-03-17T18:52:58.104Z\" level=debug msg=\"Getting the template by name\" base=\"*v1alpha1.Workflow (namespace=default,name=)\" depth=0 tmpl=\"*v1alpha1.WorkflowStep (compliance-check)\"\n",
      "time=\"2023-03-17T18:52:58.104Z\" level=debug msg=\"Getting the template by name\" base=\"*v1alpha1.Workflow (namespace=default,name=)\" depth=0 tmpl=\"*v1alpha1.WorkflowStep (compliance-check)\"\n",
      "time=\"2023-03-17T18:52:58.104Z\" level=debug msg=\"Resolving the template\" base=\"*v1alpha1.Workflow (namespace=default,name=)\" depth=0 tmpl=\"*v1alpha1.WorkflowStep (qc-dataset)\"\n",
      "time=\"2023-03-17T18:52:58.104Z\" level=debug msg=\"Getting the template\" base=\"*v1alpha1.Workflow (namespace=default,name=)\" depth=0 tmpl=\"*v1alpha1.WorkflowStep (qc-dataset)\"\n",
      "time=\"2023-03-17T18:52:58.104Z\" level=debug msg=\"Getting the template by name\" base=\"*v1alpha1.Workflow (namespace=default,name=)\" depth=0 tmpl=\"*v1alpha1.WorkflowStep (qc-dataset)\"\n",
      "time=\"2023-03-17T18:52:58.105Z\" level=debug msg=\"Getting the template by name\" base=\"*v1alpha1.Workflow (namespace=default,name=)\" depth=0 tmpl=\"*v1alpha1.WorkflowStep (qc-dataset)\"\n",
      "time=\"2023-03-17T18:52:58.105Z\" level=debug msg=\"Resolving the template\" base=\"*v1alpha1.Workflow (namespace=default,name=)\" depth=0 tmpl=\"*v1alpha1.WorkflowStep (compliance-check)\"\n",
      "time=\"2023-03-17T18:52:58.105Z\" level=debug msg=\"Getting the template\" base=\"*v1alpha1.Workflow (namespace=default,name=)\" depth=0 tmpl=\"*v1alpha1.WorkflowStep (compliance-check)\"\n",
      "time=\"2023-03-17T18:52:58.105Z\" level=debug msg=\"Getting the template by name\" base=\"*v1alpha1.Workflow (namespace=default,name=)\" depth=0 tmpl=\"*v1alpha1.WorkflowStep (compliance-check)\"\n",
      "time=\"2023-03-17T18:52:58.105Z\" level=debug msg=\"Getting the template by name\" base=\"*v1alpha1.Workflow (namespace=default,name=)\" depth=0 tmpl=\"*v1alpha1.WorkflowStep (compliance-check)\"\n",
      "time=\"2023-03-17T18:52:58.105Z\" level=debug msg=\"Resolving the template\" base=\"*v1alpha1.Workflow (namespace=default,name=)\" depth=0 tmpl=\"*v1alpha1.WorkflowStep (qc-dataset)\"\n",
      "time=\"2023-03-17T18:52:58.105Z\" level=debug msg=\"Getting the template\" base=\"*v1alpha1.Workflow (namespace=default,name=)\" depth=0 tmpl=\"*v1alpha1.WorkflowStep (qc-dataset)\"\n",
      "time=\"2023-03-17T18:52:58.105Z\" level=debug msg=\"Getting the template by name\" base=\"*v1alpha1.Workflow (namespace=default,name=)\" depth=0 tmpl=\"*v1alpha1.WorkflowStep (qc-dataset)\"\n",
      "time=\"2023-03-17T18:52:58.105Z\" level=debug msg=\"Getting the template by name\" base=\"*v1alpha1.Workflow (namespace=default,name=)\" depth=0 tmpl=\"*v1alpha1.WorkflowStep (curl-file-and-process)\"\n",
      "time=\"2023-03-17T18:52:58.105Z\" level=debug msg=\"Resolving the template\" base=\"*v1alpha1.Workflow (namespace=default,name=)\" depth=0 tmpl=\"*v1alpha1.WorkflowStep (curl-file-and-process)\"\n",
      "time=\"2023-03-17T18:52:58.105Z\" level=debug msg=\"Getting the template\" base=\"*v1alpha1.Workflow (namespace=default,name=)\" depth=0 tmpl=\"*v1alpha1.WorkflowStep (curl-file-and-process)\"\n",
      "time=\"2023-03-17T18:52:58.105Z\" level=debug msg=\"Getting the template by name\" base=\"*v1alpha1.Workflow (namespace=default,name=)\" depth=0 tmpl=\"*v1alpha1.WorkflowStep (curl-file-and-process)\"\n",
      "time=\"2023-03-17T18:52:58.105Z\" level=debug msg=\"Getting the template by name\" base=\"*v1alpha1.Workflow (namespace=default,name=)\" depth=0 tmpl=\"*v1alpha1.WorkflowStep (curl-file-and-process)\"\n",
      "time=\"2023-03-17T18:52:58.105Z\" level=debug msg=\"Resolving the template\" base=\"*v1alpha1.Workflow (namespace=default,name=)\" depth=0 tmpl=\"*v1alpha1.WorkflowStep (curl-file)\"\n",
      "time=\"2023-03-17T18:52:58.105Z\" level=debug msg=\"Getting the template\" base=\"*v1alpha1.Workflow (namespace=default,name=)\" depth=0 tmpl=\"*v1alpha1.WorkflowStep (curl-file)\"\n",
      "time=\"2023-03-17T18:52:58.105Z\" level=debug msg=\"Getting the template by name\" base=\"*v1alpha1.Workflow (namespace=default,name=)\" depth=0 tmpl=\"*v1alpha1.WorkflowStep (curl-file)\"\n",
      "time=\"2023-03-17T18:52:58.105Z\" level=debug msg=\"Getting the template by name\" base=\"*v1alpha1.Workflow (namespace=default,name=)\" depth=0 tmpl=\"*v1alpha1.WorkflowStep (curl-file)\"\n",
      "time=\"2023-03-17T18:52:58.105Z\" level=debug msg=\"Resolving the template\" base=\"*v1alpha1.Workflow (namespace=default,name=)\" depth=0 tmpl=\"*v1alpha1.WorkflowStep (compliance-check)\"\n",
      "time=\"2023-03-17T18:52:58.105Z\" level=debug msg=\"Getting the template\" base=\"*v1alpha1.Workflow (namespace=default,name=)\" depth=0 tmpl=\"*v1alpha1.WorkflowStep (compliance-check)\"\n",
      "time=\"2023-03-17T18:52:58.105Z\" level=debug msg=\"Getting the template by name\" base=\"*v1alpha1.Workflow (namespace=default,name=)\" depth=0 tmpl=\"*v1alpha1.WorkflowStep (compliance-check)\"\n",
      "time=\"2023-03-17T18:52:58.105Z\" level=debug msg=\"Getting the template by name\" base=\"*v1alpha1.Workflow (namespace=default,name=)\" depth=0 tmpl=\"*v1alpha1.WorkflowStep (compliance-check)\"\n",
      "time=\"2023-03-17T18:52:58.105Z\" level=debug msg=\"Resolving the template\" base=\"*v1alpha1.Workflow (namespace=default,name=)\" depth=0 tmpl=\"*v1alpha1.WorkflowStep (qc-dataset)\"\n",
      "time=\"2023-03-17T18:52:58.105Z\" level=debug msg=\"Getting the template\" base=\"*v1alpha1.Workflow (namespace=default,name=)\" depth=0 tmpl=\"*v1alpha1.WorkflowStep (qc-dataset)\"\n",
      "time=\"2023-03-17T18:52:58.105Z\" level=debug msg=\"Getting the template by name\" base=\"*v1alpha1.Workflow (namespace=default,name=)\" depth=0 tmpl=\"*v1alpha1.WorkflowStep (qc-dataset)\"\n"
     ]
    },
    {
     "name": "stdout",
     "output_type": "stream",
     "text": [
      "Name:                curl-to-artifact-qwz6v\n",
      "Namespace:           default\n",
      "ServiceAccount:      unset (will run with the default ServiceAccount)\n",
      "Status:              Pending\n",
      "Created:             Fri Mar 17 18:52:59 -0400 (now)\n",
      "Progress:            \n",
      "Parameters:          \n",
      "  file-url:          https://gliders.ioos.us/erddap/tabledap/amelia-20180501T0000.nc\n",
      "  qc-config:         '{\"temperature\": {\"qartod\": {\"attenuated_signal_test\": {\"suspect_threshold\": 0.0, \"fail_threshold\": 0.0, \"test_period\": 0.0, \"min_obs\": 0.0, \"min_period\": 0}, \"density_inversion_test\": {\"suspect_threshold\": 0.0, \"fail_threshold\": 0.0}, \"flat_line_test\": {\"suspect_threshold\": 0, \"fail_threshold\": 0, \"tolerance\": 0.0}, \"gross_range_test\": {\"fail_span\": [-100.0, 100.0], \"suspect_span\": [-100.0, 100.0]}, \"rate_of_change_test\": {\"threshold\": 0.0}, \"spike_test\": {\"suspect_threshold\": 0.0, \"fail_threshold\": 0.0}}}}'\n",
      "  input-var-selection: '[\"temperature\"]'\n",
      "  x-var-name:        longitude\n",
      "  y-var-name:        latitude\n",
      "  z-var-name:        depth\n",
      "  t-var-name:        time\n",
      "  run-cchecker:      true\n"
     ]
    },
    {
     "name": "stderr",
     "output_type": "stream",
     "text": [
      "I0317 18:52:59.306134    2790 round_trippers.go:553] POST https://47B3AF6215C3C908448CBFA0FFF755DA.gr7.us-east-1.eks.amazonaws.com/apis/argoproj.io/v1alpha1/namespaces/default/workflows 201 Created in 1200 milliseconds\n"
     ]
    },
    {
     "data": {
      "text/plain": [
       "CompletedProcess(args=['argo', 'submit', '-v', '-p', 'file-url=https://gliders.ioos.us/erddap/tabledap/amelia-20180501T0000.nc', '-p', 'qc-config=\\'{\"temperature\": {\"qartod\": {\"attenuated_signal_test\": {\"suspect_threshold\": 0.0, \"fail_threshold\": 0.0, \"test_period\": 0.0, \"min_obs\": 0.0, \"min_period\": 0}, \"density_inversion_test\": {\"suspect_threshold\": 0.0, \"fail_threshold\": 0.0}, \"flat_line_test\": {\"suspect_threshold\": 0, \"fail_threshold\": 0, \"tolerance\": 0.0}, \"gross_range_test\": {\"fail_span\": [-100.0, 100.0], \"suspect_span\": [-100.0, 100.0]}, \"rate_of_change_test\": {\"threshold\": 0.0}, \"spike_test\": {\"suspect_threshold\": 0.0, \"fail_threshold\": 0.0}}}}\\'', '-p', 'input-var-selection=\\'[\"temperature\"]\\'', '-p', 'x-var-name=longitude', '-p', 'y-var-name=latitude', '-p', 'z-var-name=depth', '-p', 't-var-name=time', 'argo_workflows/curl_file.yaml'], returncode=0)"
      ]
     },
     "execution_count": 162,
     "metadata": {},
     "output_type": "execute_result"
    }
   ],
   "source": [
    "cmds = [\"argo\", \"submit\", \"-v\",\n",
    "                \"-p\", f\"file-url={quote(url)}\",\n",
    "                \"-p\", f\"qc-config={quote(json.dumps(qc_config))}\",\n",
    "                \"-p\", f\"input-var-selection={quote(json.dumps(input_variable_selection.value))}\",\n",
    "                \"-p\", f\"x-var-name={quote(x_variable_selection.value)}\",\n",
    "                \"-p\", f\"y-var-name={quote(y_variable_selection.value)}\",\n",
    "                \"-p\", f\"z-var-name={quote(depth_variable_selection.value)}\",\n",
    "                \"-p\", f\"t-var-name={quote(time_variable_selection.value)}\", \n",
    "                \"argo_workflows/curl_file.yaml\"]\n",
    "\n",
    "subprocess.run(cmds)"
   ]
  }
 ],
 "metadata": {
  "kernelspec": {
   "display_name": "Python 3 (ipykernel)",
   "language": "python",
   "name": "python3"
  },
  "language_info": {
   "codemirror_mode": {
    "name": "ipython",
    "version": 3
   },
   "file_extension": ".py",
   "mimetype": "text/x-python",
   "name": "python",
   "nbconvert_exporter": "python",
   "pygments_lexer": "ipython3",
   "version": "3.10.8"
  }
 },
 "nbformat": 4,
 "nbformat_minor": 5
}
