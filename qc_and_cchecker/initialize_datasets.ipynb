{
 "cells": [
  {
   "cell_type": "code",
   "execution_count": null,
   "id": "f681644f",
   "metadata": {},
   "outputs": [],
   "source": [
    "import ipywidgets as widgets\n",
    "import xarray\n",
    "from io import BytesIO\n",
    "import typing\n",
    "import numbers\n",
    "import subprocess\n",
    "from shlex import quote\n",
    "import requests"
   ]
  },
  {
   "cell_type": "code",
   "execution_count": null,
   "id": "7099d50b",
   "metadata": {},
   "outputs": [],
   "source": [
    "url_loc = widgets.Text(placeholder=\"ERDDAP NetCDF URL\")\n",
    "display(url_loc)"
   ]
  },
  {
   "cell_type": "code",
   "execution_count": null,
   "id": "f2fc48c4",
   "metadata": {},
   "outputs": [],
   "source": [
    "if uploader.value[0].type == \"application/x-netcdf\":\n",
    "    ds = xarray.open_dataset(BytesIO(uploader.value[0].content.tobytes()))"
   ]
  },
  {
   "cell_type": "code",
   "execution_count": null,
   "id": "4cd5c1d2",
   "metadata": {},
   "outputs": [],
   "source": [
    "url = url_loc.value\n",
    "print(url)\n",
    "# whether we need to store the dataset to disk before processing,\n",
    "# usually due to needing to fetch a netCDF file from ERDDAP due to\n",
    "# not presenting an OPeNDAP interface\n",
    "store_remote = False\n",
    "try:\n",
    "    with warnings.catch_warnings() as w:\n",
    "        warnings.simplefilter(\"ignore\")\n",
    "        ds = xarray.open_dataset(url)\n",
    "        \n",
    "# handle ERDDAP, which doesn't use an OPeNDAP interface for TableDAP\n",
    "except OSError:\n",
    "    req = requests.get(url, timeout=30)\n",
    "    ds = xarray.open_dataset(BytesIO(req.content))\n",
    "    store_remote = True"
   ]
  },
  {
   "cell_type": "code",
   "execution_count": null,
   "id": "48e2f861",
   "metadata": {},
   "outputs": [],
   "source": [
    "[k for k in ds.coords.keys()]"
   ]
  },
  {
   "cell_type": "code",
   "execution_count": null,
   "id": "32386adb",
   "metadata": {},
   "outputs": [],
   "source": [
    "import ipywidgets as widgets\n",
    "\n",
    "time_variable_selection = widgets.Dropdown(\n",
    "    options=[k for k in ds.variables.keys()],\n",
    "    description='Time variable:',\n",
    "    disabled=False,\n",
    ")\n",
    "display(time_variable_selection)"
   ]
  },
  {
   "cell_type": "code",
   "execution_count": null,
   "id": "74f09faf",
   "metadata": {},
   "outputs": [],
   "source": [
    "input_variable_selection = widgets.SelectMultiple(\n",
    "    #options=['1', '2', '3'],\n",
    "    options=[k for k in ds.variables.keys()],\n",
    "    #value='2',\n",
    "    description='Input variable(s):',\n",
    "    disabled=False,\n",
    ")\n",
    "display(input_variable_selection)"
   ]
  },
  {
   "cell_type": "code",
   "execution_count": null,
   "id": "804a5ef5",
   "metadata": {},
   "outputs": [],
   "source": [
    "x_variable_selection = widgets.Dropdown(\n",
    "    options=[k for k in ds.variables.keys()],\n",
    "    description='x/lon variable:',\n",
    "    disabled=False,\n",
    ")\n",
    "display(x_variable_selection)"
   ]
  },
  {
   "cell_type": "code",
   "execution_count": null,
   "id": "63699467",
   "metadata": {},
   "outputs": [],
   "source": [
    "y_variable_selection = widgets.Dropdown(\n",
    "    options=[k for k in ds.variables.keys()],\n",
    "    description='y/lat variable:',\n",
    "    disabled=False,\n",
    ")\n",
    "display(y_variable_selection)"
   ]
  },
  {
   "cell_type": "code",
   "execution_count": null,
   "id": "5a388e18",
   "metadata": {},
   "outputs": [],
   "source": [
    "depth_variable_selection = widgets.Dropdown(\n",
    "    options=[None] + [k for k in ds.variables.keys()],\n",
    "    description='Depth/z variable:',\n",
    "    disabled=False,\n",
    ")\n",
    "display(depth_variable_selection)"
   ]
  },
  {
   "cell_type": "code",
   "execution_count": null,
   "id": "b26712f8",
   "metadata": {},
   "outputs": [],
   "source": [
    "time_variable = ds.variables[time_selection.value]\n",
    "input_variable_dict = {var_name: ds.variables[var_name] for var_name in input_variable_selection.value}\n",
    "x_variable = ds.variables[x_variable_selection.value]\n",
    "y_variable = ds.variables[y_variable_selection.value]\n",
    "depth_variable = None if depth_variable_selection.value is None else ds.variables[depth_variable_selection.value]"
   ]
  },
  {
   "cell_type": "code",
   "execution_count": null,
   "id": "f444c40a",
   "metadata": {},
   "outputs": [],
   "source": [
    "# can't seem to import due to dependency solving\n",
    "\n",
    "import cf_units"
   ]
  },
  {
   "cell_type": "code",
   "execution_count": null,
   "id": "9249d50f",
   "metadata": {},
   "outputs": [],
   "source": [
    "from ioos_qc import qartod"
   ]
  },
  {
   "cell_type": "code",
   "execution_count": null,
   "id": "5e3b69d8",
   "metadata": {},
   "outputs": [],
   "source": [
    "qartod.location_test.__annotations__"
   ]
  },
  {
   "cell_type": "code",
   "execution_count": null,
   "id": "2d0f211c",
   "metadata": {},
   "outputs": [],
   "source": [
    "import inflection\n",
    "import warnings\n",
    "import numbers\n",
    "\n",
    "\n",
    "def widget_factory_type(variable_name, function):\n",
    "    widget_controls = []\n",
    "    annotations = function.__annotations__\n",
    "    # TODO: for when proper widget is found for bbox selection for location test\n",
    "    #bbox_type = typing.Tuple[numbers.Real, numbers.Real, numbers.Real, numbers.Real]\n",
    "    for annotation_name, type_signature in annotations.items():\n",
    "        # data variables should be skipped as they aren't tunable for QARTOD test parameters\n",
    "        if annotation_name in {\"inp\", \"tinp\", \"lon\", \"lat\", \"zinp\", \"method\", \"return\", \"type_signature\", \"check_type\"}:\n",
    "            continue\n",
    "            \n",
    "        match type_signature:\n",
    "            case t if t is numbers.Real or t is float:\n",
    "                widget_controls.append(widgets.FloatSlider(value=0, min=-500, max=500,\n",
    "                                                           description=annotation_name,\n",
    "                                                           name=f\"{variable_name} {function} {annotation_name}\"))\n",
    "            case t if t is int:\n",
    "                widget_controls.append(widgets.IntSlider(value=0, min=0, max=100,\n",
    "                                                    description=annotation_name,\n",
    "                                                    name=f\"{variable_name} {function} {annotation_name}\"))\n",
    "            case t if t is typing.Tuple[numbers.Real, numbers.Real]:\n",
    "                widget_controls.append(widgets.FloatRangeSlider(value=[-100, 100], min=-500, max=500,\n",
    "                                                                description=annotation_name,\n",
    "                                                                name=f\"{variable_name} {function} {annotation_name}\"))             \n",
    "            # four numbers could only be geospatial bounding box for location test\n",
    "            # TODO: display with interact, etc\n",
    "            case t if t is typing.Tuple[numbers.Real, numbers.Real, numbers.Real, numbers.Real]:\n",
    "                widget_controls.append(widgets.VBox([widgets.FloatRangeSlider(value=[0, 1], min=-180, max=180,\n",
    "                                                           description=\"Longitude Bounds\"),\n",
    "                                  widgets.FloatRangeSlider(value=[0, 1], min=-90, max=90,\n",
    "                                                           description=\"Latitude Bounds\")],\n",
    "                                                    name=f\"{variable_name} {function} {annotation_name}\"))\n",
    "            case _:\n",
    "                warnings.warn(f\"Parameter {annotation_name} with type signature {type_signature} unmatched, skipping...\")\n",
    "                continue\n",
    "    checkbox = widgets.Checkbox(False, description=\"Disabled\", indent=False)\n",
    "    for control in widget_controls:\n",
    "        widgets.link((checkbox, 'value'), (control, 'disabled'))\n",
    "    return widgets.VBox([checkbox, widgets.VBox(widget_controls)])"
   ]
  },
  {
   "cell_type": "code",
   "execution_count": null,
   "id": "d1a96798",
   "metadata": {},
   "outputs": [],
   "source": [
    "def show_controls(variable_name, function): \n",
    "    print(inflection.titleize(function.__name__))\n",
    "    display(widget_factory_type(variable_name, function))"
   ]
  },
  {
   "cell_type": "code",
   "execution_count": null,
   "id": "a1a5399f",
   "metadata": {},
   "outputs": [],
   "source": [
    "import inspect\n",
    "from ioos_qc import qartod\n",
    "\n",
    "test_dict = {}\n",
    "qartod_tests = inspect.getmembers(qartod, lambda o: inspect.isfunction(o) and o.__name__.endswith(\"_test\"))\n",
    "for input_variable_name, input_variable in input_variable_dict.items():\n",
    "    test_dict[input_variable_name] = {}\n",
    "    print(input_variable_name)\n",
    "    for test_name, qartod_test in qartod_tests:\n",
    "        # don't know how to represent climatology widgets\n",
    "        if test_name in {\"climatology_test\", \"location_test\"}:\n",
    "            continue\n",
    "        test_dict[input_variable_name][test_name] = widget_factory_type(input_variable_name, qartod_test)\n",
    "        print(inflection.titleize(qartod_test.__name__))\n",
    "        show_controls(input_variable_name, qartod_test)\n",
    "display(widgets.Checkbox(True, description=\"Run CF Compliance Check\", indent=False))\n",
    "display(widgets.Button(description=\"Submit\"))"
   ]
  },
  {
   "cell_type": "code",
   "execution_count": null,
   "id": "421cfb75",
   "metadata": {},
   "outputs": [],
   "source": [
    "def generate_qc_json_config(widget_conf):\n",
    "    qc_conf_dict = {}\n",
    "    for variable_name in widget_conf:\n",
    "        qc_conf_dict[variable_name] = {}\n",
    "        qartod_conf = qc_conf_dict[variable_name][\"qartod\"] = {}\n",
    "        for test_name in widget_conf[variable_name]:\n",
    "            # if test is disabled, skip\n",
    "            if test_dict[variable_name][test_name].children[0].value:\n",
    "                continue\n",
    "            qartod_conf[test_name] = {}\n",
    "            test_widgets = test_dict[variable_name][test_name].children[1].children\n",
    "            for test_widget in test_widgets:\n",
    "                qartod_conf[test_name][test_widget.description] = test_widget.value\n",
    "    return qc_conf_dict\n",
    "\n",
    "qc_config = generate_qc_json_config(test_dict)\n",
    "            "
   ]
  },
  {
   "cell_type": "code",
   "execution_count": null,
   "id": "24921504",
   "metadata": {},
   "outputs": [],
   "source": [
    "cmds = [\"argo\", \"submit\",\n",
    "                \"-p\", f\"file-url={quote(url)}\",\n",
    "                \"-p\", f\"qc-config={quote(json.dumps(qc_config))}\",\n",
    "                \"-p\", f\"input-var-selection={quote(json.dumps(input_variable_selection.value))}\",\n",
    "                \"-p\", f\"x-var-name={quote(x_variable_selection.value)}\",\n",
    "                \"-p\", f\"y-var-name={quote(y_variable_selection.value)}\",\n",
    "                \"-p\", f\"z-var-name={quote(depth_variable_selection.value)}\",\n",
    "                \"-p\", f\"t-var-name={quote(time_variable_selection.value)}\", \n",
    "                \"curl_file.yaml\"]\n",
    "\n",
    "subprocess.run(cmds)"
   ]
  }
 ],
 "metadata": {
  "kernelspec": {
   "display_name": "Python 3 (ipykernel)",
   "language": "python",
   "name": "python3"
  },
  "language_info": {
   "codemirror_mode": {
    "name": "ipython",
    "version": 3
   },
   "file_extension": ".py",
   "mimetype": "text/x-python",
   "name": "python",
   "nbconvert_exporter": "python",
   "pygments_lexer": "ipython3",
   "version": "3.10.8"
  }
 },
 "nbformat": 4,
 "nbformat_minor": 5
}
